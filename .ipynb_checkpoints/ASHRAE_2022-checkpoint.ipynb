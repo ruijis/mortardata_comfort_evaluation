{
 "cells": [
  {
   "cell_type": "markdown",
   "metadata": {},
   "source": [
    "# Quick Overview  \n",
    "We use <a href='https://brickschema.org/'>Brick</a> and <a href='https://mortardata.org/intro.html'>Mortar</a> to evalute long-term thermal comfort across 25 buildings. All analytic graphs and tables in our ASHRAE paper are reproducible here. You don't need to do anything except running the cell by sequence, but feel free to try something different. Have fun!\n",
    "\n",
    "v0.7; November 2021"
   ]
  },
  {
   "cell_type": "markdown",
   "metadata": {},
   "source": [
    "## Connect to Mortar API"
   ]
  },
  {
   "cell_type": "code",
   "execution_count": 1,
   "metadata": {},
   "outputs": [],
   "source": [
    "import pymortar\n",
    "# build a client to Mortar frontend server\n",
    "client = pymortar.Client(\"https://beta-api.mortardata.org\")"
   ]
  },
  {
   "cell_type": "code",
   "execution_count": 2,
   "metadata": {},
   "outputs": [
    {
     "name": "stdout",
     "output_type": "stream",
     "text": [
      "Name: pymortar\n",
      "Version: 2.0.5\n",
      "Summary: \n",
      "Home-page: None\n",
      "Author: Gabe Fierro\n",
      "Author-email: gtfierro@cs.berkeley.edu\n",
      "License: None\n",
      "Location: /opt/anaconda3/lib/python3.8/site-packages\n",
      "Requires: pyarrow, requests, brickschema, python-snappy, googleapis-common-protos, toml, pandas, rdflib\n",
      "Required-by: \n"
     ]
    }
   ],
   "source": [
    "# check pymortar version == 2.0.5\n",
    "!pip show pymortar"
   ]
  },
  {
   "cell_type": "markdown",
   "metadata": {},
   "source": [
    "## Write a Brick metadata model query"
   ]
  },
  {
   "cell_type": "code",
   "execution_count": 48,
   "metadata": {},
   "outputs": [],
   "source": [
    "# the query could be just zone air temperature sensor or with other related entities\n",
    "query = \"\"\"SELECT ?sensor ?zone ?vav ?room ?floor ?ahu WHERE {{\n",
    "    ?sensor a brick:Zone_Air_Temperature_Sensor .\n",
    "    ?sensor brick:isPointOf ?vav .\n",
    "    ?vav brick:feeds ?zone .\n",
    "    ?zone a brick:HVAC_Zone .\n",
    "    ?zone brick:hasPart ?room .\n",
    "    ?room a brick:Room .\n",
    "    ?room brick:isPartOf ?floor .\n",
    "    ?floor a brick:Floor .\n",
    "    ?ahu a brick:AHU .\n",
    "    ?ahu brick:feeds ?vav .\n",
    "}}\"\"\""
   ]
  },
  {
   "cell_type": "code",
   "execution_count": 49,
   "metadata": {},
   "outputs": [
    {
     "name": "stdout",
     "output_type": "stream",
     "text": [
      "Mortar has 25 qualifed sites\n",
      "['artx', 'bwfp', 'chem', 'chemx', 'crus', 'dh', 'fdpd', 'gbsf', 'gha_ics', 'giedt', 'hart', 'hwc', 'mann', 'msb', 'music', 'roes', 'stor', 'thur', 'veih', 'vm3a', 'vmep', 'vmif', 'vmth', 'well', 'wsrc']\n"
     ]
    }
   ],
   "source": [
    "# get which sites return results for the query above\n",
    "qualify_resp = client.qualify([query])\n",
    "print(\"Mortar has {0} qualifed sites\".format(len(qualify_resp.sites)))\n",
    "print(qualify_resp.sites)"
   ]
  },
  {
   "cell_type": "markdown",
   "metadata": {},
   "source": [
    "## Analysis - Discomfort Indices comparasion"
   ]
  },
  {
   "cell_type": "code",
   "execution_count": 50,
   "metadata": {},
   "outputs": [],
   "source": [
    "# get the brick metadata of the query sensors across all sites, except 'vmif'\n",
    "metadata_all = client.sparql(query, sites=qualify_resp.sites)"
   ]
  },
  {
   "cell_type": "code",
   "execution_count": null,
   "metadata": {},
   "outputs": [],
   "source": [
    "from hourly_outlier import *\n",
    "ro_res = []\n",
    "for idxi, row in metadata_all.iterrows():\n",
    "    res_row = {}\n",
    "    md = row.sensor\n",
    "    p = hourly_outlier(md, sd, ed, sh, eh, sl, su, wl, wu)\n",
    "    for k in metadata_all.columns:\n",
    "        res_row[k] = 'Zon_Air_Temp' if k == 'sensor' else re.split('[#]', row[k])[-1]\n",
    "    res_row['index'] = p\n",
    "    ro_res += [res_row]"
   ]
  },
  {
   "cell_type": "code",
   "execution_count": null,
   "metadata": {},
   "outputs": [],
   "source": []
  },
  {
   "cell_type": "code",
   "execution_count": null,
   "metadata": {},
   "outputs": [],
   "source": [
    "ro_res_df = pd.DataFrame(ro_res)"
   ]
  }
 ],
 "metadata": {
  "kernelspec": {
   "display_name": "Python 3",
   "language": "python",
   "name": "python3"
  },
  "language_info": {
   "codemirror_mode": {
    "name": "ipython",
    "version": 3
   },
   "file_extension": ".py",
   "mimetype": "text/x-python",
   "name": "python",
   "nbconvert_exporter": "python",
   "pygments_lexer": "ipython3",
   "version": "3.8.5"
  }
 },
 "nbformat": 4,
 "nbformat_minor": 4
}

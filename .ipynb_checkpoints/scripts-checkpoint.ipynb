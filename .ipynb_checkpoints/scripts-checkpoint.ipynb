{
 "cells": [
  {
   "cell_type": "markdown",
   "metadata": {},
   "source": [
    "# Different long-term thermal comfort indices for continuous monitoring"
   ]
  },
  {
   "cell_type": "markdown",
   "metadata": {},
   "source": [
    "## No.1: Percentage of occupied time outside a temeprature range"
   ]
  },
  {
   "cell_type": "code",
   "execution_count": 1,
   "metadata": {},
   "outputs": [],
   "source": [
    "from temperature_range_percentage import temp_range"
   ]
  },
  {
   "cell_type": "code",
   "execution_count": 2,
   "metadata": {},
   "outputs": [
    {
     "data": {
      "text/plain": [
       "\u001b[0;31mSignature:\u001b[0m \u001b[0mtemp_range\u001b[0m\u001b[0;34m(\u001b[0m\u001b[0ma\u001b[0m\u001b[0;34m,\u001b[0m \u001b[0mb\u001b[0m\u001b[0;34m,\u001b[0m \u001b[0ml\u001b[0m\u001b[0;34m,\u001b[0m \u001b[0mu\u001b[0m\u001b[0;34m,\u001b[0m \u001b[0mf\u001b[0m\u001b[0;34m)\u001b[0m\u001b[0;34m\u001b[0m\u001b[0;34m\u001b[0m\u001b[0m\n",
       "\u001b[0;31mDocstring:\u001b[0m\n",
       "Calculate the percentage of occupied time outside a temeprature range.\n",
       "The data file type should be CSV.\n",
       "The first column of the CSV file should be time.\n",
       "The second column of the CSV file should be temperature.\n",
       "\n",
       "Parameters\n",
       "----------\n",
       "a : int\n",
       "    The start time (24-hour clock) of normal office hours during weekdays\n",
       "b : int\n",
       "    The end time (24-hour clock) of normal office hours during weekdays\n",
       "l : float\n",
       "    lower bound of the tempearture range, with same units of the data\n",
       "u : float\n",
       "    upper bound of the temperature range, with same units of the data\n",
       "f : string\n",
       "    path of the fold that stores all CSV files\n",
       "\n",
       "Returns\n",
       "----------\n",
       "p : float\n",
       "    percentage of the time\n",
       "\u001b[0;31mFile:\u001b[0m      ~/Documents/GitHub/mortardata_comfort_evaluation/temperature_range_percentage.py\n",
       "\u001b[0;31mType:\u001b[0m      function\n"
      ]
     },
     "metadata": {},
     "output_type": "display_data"
    }
   ],
   "source": [
    "temp_range?"
   ]
  },
  {
   "cell_type": "code",
   "execution_count": 3,
   "metadata": {},
   "outputs": [],
   "source": [
    "DBC = '/Users/ruijisun/Box/Mortar zone and setpoint temperatures/20210727 Zone Temperature Data/DBC'\n",
    "SMC = '/Users/ruijisun/Box/Mortar zone and setpoint temperatures/20210727 Zone Temperature Data/SMC'\n",
    "SMUD = '/Users/ruijisun/Box/Mortar zone and setpoint temperatures/20210727 Zone Temperature Data/SMUD'"
   ]
  },
  {
   "cell_type": "code",
   "execution_count": 6,
   "metadata": {},
   "outputs": [
    {
     "data": {
      "text/html": [
       "<div>\n",
       "<style scoped>\n",
       "    .dataframe tbody tr th:only-of-type {\n",
       "        vertical-align: middle;\n",
       "    }\n",
       "\n",
       "    .dataframe tbody tr th {\n",
       "        vertical-align: top;\n",
       "    }\n",
       "\n",
       "    .dataframe thead th {\n",
       "        text-align: right;\n",
       "    }\n",
       "</style>\n",
       "<table border=\"1\" class=\"dataframe\">\n",
       "  <thead>\n",
       "    <tr style=\"text-align: right;\">\n",
       "      <th></th>\n",
       "      <th>zone name</th>\n",
       "      <th>outside percentage</th>\n",
       "    </tr>\n",
       "  </thead>\n",
       "  <tbody>\n",
       "    <tr>\n",
       "      <th>0</th>\n",
       "      <td>/Field Bus1.BrowerRadiant2East.ZN2-T.csv</td>\n",
       "      <td>0.596807</td>\n",
       "    </tr>\n",
       "    <tr>\n",
       "      <th>2</th>\n",
       "      <td>/Field Bus1.BrowerRadiant4East.ZN2-T.csv</td>\n",
       "      <td>0.412625</td>\n",
       "    </tr>\n",
       "    <tr>\n",
       "      <th>1</th>\n",
       "      <td>/Field Bus1.BrowerRadiant3West.ZN1-T.csv</td>\n",
       "      <td>0.407425</td>\n",
       "    </tr>\n",
       "  </tbody>\n",
       "</table>\n",
       "</div>"
      ],
      "text/plain": [
       "                                  zone name  outside percentage\n",
       "0  /Field Bus1.BrowerRadiant2East.ZN2-T.csv            0.596807\n",
       "2  /Field Bus1.BrowerRadiant4East.ZN2-T.csv            0.412625\n",
       "1  /Field Bus1.BrowerRadiant3West.ZN1-T.csv            0.407425"
      ]
     },
     "execution_count": 6,
     "metadata": {},
     "output_type": "execute_result"
    }
   ],
   "source": [
    "temp_range(9, 17, 70, 78, DBC)"
   ]
  },
  {
   "cell_type": "code",
   "execution_count": 5,
   "metadata": {},
   "outputs": [
    {
     "data": {
      "text/html": [
       "<div>\n",
       "<style scoped>\n",
       "    .dataframe tbody tr th:only-of-type {\n",
       "        vertical-align: middle;\n",
       "    }\n",
       "\n",
       "    .dataframe tbody tr th {\n",
       "        vertical-align: top;\n",
       "    }\n",
       "\n",
       "    .dataframe thead th {\n",
       "        text-align: right;\n",
       "    }\n",
       "</style>\n",
       "<table border=\"1\" class=\"dataframe\">\n",
       "  <thead>\n",
       "    <tr style=\"text-align: right;\">\n",
       "      <th></th>\n",
       "      <th>zone name</th>\n",
       "      <th>outside percentage</th>\n",
       "    </tr>\n",
       "  </thead>\n",
       "  <tbody>\n",
       "    <tr>\n",
       "      <th>2</th>\n",
       "      <td>/881ae9c7-1415-4f07-ae11-e046ad1ba597.csv</td>\n",
       "      <td>0.537967</td>\n",
       "    </tr>\n",
       "    <tr>\n",
       "      <th>1</th>\n",
       "      <td>/5c8d94d7-ca6a-4823-9c96-5c6f1cceba13.csv</td>\n",
       "      <td>0.510291</td>\n",
       "    </tr>\n",
       "    <tr>\n",
       "      <th>0</th>\n",
       "      <td>/17e9e1d2-5e18-4a7d-960f-e44ee6f83a53.csv</td>\n",
       "      <td>0.505558</td>\n",
       "    </tr>\n",
       "  </tbody>\n",
       "</table>\n",
       "</div>"
      ],
      "text/plain": [
       "                                   zone name  outside percentage\n",
       "2  /881ae9c7-1415-4f07-ae11-e046ad1ba597.csv            0.537967\n",
       "1  /5c8d94d7-ca6a-4823-9c96-5c6f1cceba13.csv            0.510291\n",
       "0  /17e9e1d2-5e18-4a7d-960f-e44ee6f83a53.csv            0.505558"
      ]
     },
     "execution_count": 5,
     "metadata": {},
     "output_type": "execute_result"
    }
   ],
   "source": [
    "temp_range(9, 17, 72, 81, SMC)"
   ]
  },
  {
   "cell_type": "code",
   "execution_count": 6,
   "metadata": {},
   "outputs": [
    {
     "data": {
      "text/html": [
       "<div>\n",
       "<style scoped>\n",
       "    .dataframe tbody tr th:only-of-type {\n",
       "        vertical-align: middle;\n",
       "    }\n",
       "\n",
       "    .dataframe tbody tr th {\n",
       "        vertical-align: top;\n",
       "    }\n",
       "\n",
       "    .dataframe thead th {\n",
       "        text-align: right;\n",
       "    }\n",
       "</style>\n",
       "<table border=\"1\" class=\"dataframe\">\n",
       "  <thead>\n",
       "    <tr style=\"text-align: right;\">\n",
       "      <th></th>\n",
       "      <th>zone name</th>\n",
       "      <th>outside percentage</th>\n",
       "    </tr>\n",
       "  </thead>\n",
       "  <tbody>\n",
       "    <tr>\n",
       "      <th>1</th>\n",
       "      <td>/ec_01_l2es_rczn2_zonetemp.csv</td>\n",
       "      <td>0.772284</td>\n",
       "    </tr>\n",
       "    <tr>\n",
       "      <th>0</th>\n",
       "      <td>/ec_01_l1ec_rczn4_zonetemp.csv</td>\n",
       "      <td>0.146483</td>\n",
       "    </tr>\n",
       "    <tr>\n",
       "      <th>2</th>\n",
       "      <td>/ec_01_l2wc_rczn2_zonetemp.csv</td>\n",
       "      <td>0.023980</td>\n",
       "    </tr>\n",
       "  </tbody>\n",
       "</table>\n",
       "</div>"
      ],
      "text/plain": [
       "                        zone name  outside percentage\n",
       "1  /ec_01_l2es_rczn2_zonetemp.csv            0.772284\n",
       "0  /ec_01_l1ec_rczn4_zonetemp.csv            0.146483\n",
       "2  /ec_01_l2wc_rczn2_zonetemp.csv            0.023980"
      ]
     },
     "execution_count": 6,
     "metadata": {},
     "output_type": "execute_result"
    }
   ],
   "source": [
    "temp_range(9, 17, 72, 81, SMUD)"
   ]
  },
  {
   "cell_type": "markdown",
   "metadata": {},
   "source": [
    "## No.2: Degree-hours"
   ]
  },
  {
   "cell_type": "code",
   "execution_count": null,
   "metadata": {},
   "outputs": [],
   "source": []
  },
  {
   "cell_type": "code",
   "execution_count": null,
   "metadata": {},
   "outputs": [],
   "source": []
  },
  {
   "cell_type": "markdown",
   "metadata": {},
   "source": [
    "## No.3: Temperature Mean Value"
   ]
  },
  {
   "cell_type": "code",
   "execution_count": 1,
   "metadata": {},
   "outputs": [],
   "source": [
    "from temperature_mean import temp_mean"
   ]
  },
  {
   "cell_type": "code",
   "execution_count": 4,
   "metadata": {
    "tags": []
   },
   "outputs": [
    {
     "data": {
      "text/html": [
       "<div>\n",
       "<style scoped>\n",
       "    .dataframe tbody tr th:only-of-type {\n",
       "        vertical-align: middle;\n",
       "    }\n",
       "\n",
       "    .dataframe tbody tr th {\n",
       "        vertical-align: top;\n",
       "    }\n",
       "\n",
       "    .dataframe thead th {\n",
       "        text-align: right;\n",
       "    }\n",
       "</style>\n",
       "<table border=\"1\" class=\"dataframe\">\n",
       "  <thead>\n",
       "    <tr style=\"text-align: right;\">\n",
       "      <th></th>\n",
       "      <th>zone name</th>\n",
       "      <th>temperature mean</th>\n",
       "    </tr>\n",
       "  </thead>\n",
       "  <tbody>\n",
       "    <tr>\n",
       "      <th>1</th>\n",
       "      <td>/Field Bus1.BrowerRadiant3West.ZN1-T.csv</td>\n",
       "      <td>72.632661</td>\n",
       "    </tr>\n",
       "    <tr>\n",
       "      <th>2</th>\n",
       "      <td>/Field Bus1.BrowerRadiant4East.ZN2-T.csv</td>\n",
       "      <td>71.572804</td>\n",
       "    </tr>\n",
       "    <tr>\n",
       "      <th>0</th>\n",
       "      <td>/Field Bus1.BrowerRadiant2East.ZN2-T.csv</td>\n",
       "      <td>67.820260</td>\n",
       "    </tr>\n",
       "  </tbody>\n",
       "</table>\n",
       "</div>"
      ],
      "text/plain": [
       "                                  zone name  temperature mean\n",
       "1  /Field Bus1.BrowerRadiant3West.ZN1-T.csv         72.632661\n",
       "2  /Field Bus1.BrowerRadiant4East.ZN2-T.csv         71.572804\n",
       "0  /Field Bus1.BrowerRadiant2East.ZN2-T.csv         67.820260"
      ]
     },
     "execution_count": 4,
     "metadata": {},
     "output_type": "execute_result"
    }
   ],
   "source": [
    "temp_mean(9, 17, DBC)"
   ]
  },
  {
   "cell_type": "code",
   "execution_count": 5,
   "metadata": {},
   "outputs": [
    {
     "data": {
      "text/html": [
       "<div>\n",
       "<style scoped>\n",
       "    .dataframe tbody tr th:only-of-type {\n",
       "        vertical-align: middle;\n",
       "    }\n",
       "\n",
       "    .dataframe tbody tr th {\n",
       "        vertical-align: top;\n",
       "    }\n",
       "\n",
       "    .dataframe thead th {\n",
       "        text-align: right;\n",
       "    }\n",
       "</style>\n",
       "<table border=\"1\" class=\"dataframe\">\n",
       "  <thead>\n",
       "    <tr style=\"text-align: right;\">\n",
       "      <th></th>\n",
       "      <th>zone name</th>\n",
       "      <th>temperature mean</th>\n",
       "    </tr>\n",
       "  </thead>\n",
       "  <tbody>\n",
       "    <tr>\n",
       "      <th>2</th>\n",
       "      <td>/881ae9c7-1415-4f07-ae11-e046ad1ba597.csv</td>\n",
       "      <td>72.291811</td>\n",
       "    </tr>\n",
       "    <tr>\n",
       "      <th>0</th>\n",
       "      <td>/17e9e1d2-5e18-4a7d-960f-e44ee6f83a53.csv</td>\n",
       "      <td>72.065779</td>\n",
       "    </tr>\n",
       "    <tr>\n",
       "      <th>1</th>\n",
       "      <td>/5c8d94d7-ca6a-4823-9c96-5c6f1cceba13.csv</td>\n",
       "      <td>71.863046</td>\n",
       "    </tr>\n",
       "  </tbody>\n",
       "</table>\n",
       "</div>"
      ],
      "text/plain": [
       "                                   zone name  temperature mean\n",
       "2  /881ae9c7-1415-4f07-ae11-e046ad1ba597.csv         72.291811\n",
       "0  /17e9e1d2-5e18-4a7d-960f-e44ee6f83a53.csv         72.065779\n",
       "1  /5c8d94d7-ca6a-4823-9c96-5c6f1cceba13.csv         71.863046"
      ]
     },
     "execution_count": 5,
     "metadata": {},
     "output_type": "execute_result"
    }
   ],
   "source": [
    "temp_mean(9, 17, SMC)"
   ]
  },
  {
   "cell_type": "code",
   "execution_count": 6,
   "metadata": {},
   "outputs": [
    {
     "data": {
      "text/html": [
       "<div>\n",
       "<style scoped>\n",
       "    .dataframe tbody tr th:only-of-type {\n",
       "        vertical-align: middle;\n",
       "    }\n",
       "\n",
       "    .dataframe tbody tr th {\n",
       "        vertical-align: top;\n",
       "    }\n",
       "\n",
       "    .dataframe thead th {\n",
       "        text-align: right;\n",
       "    }\n",
       "</style>\n",
       "<table border=\"1\" class=\"dataframe\">\n",
       "  <thead>\n",
       "    <tr style=\"text-align: right;\">\n",
       "      <th></th>\n",
       "      <th>zone name</th>\n",
       "      <th>temperature mean</th>\n",
       "    </tr>\n",
       "  </thead>\n",
       "  <tbody>\n",
       "    <tr>\n",
       "      <th>2</th>\n",
       "      <td>/ec_01_l2wc_rczn2_zonetemp.csv</td>\n",
       "      <td>74.207917</td>\n",
       "    </tr>\n",
       "    <tr>\n",
       "      <th>0</th>\n",
       "      <td>/ec_01_l1ec_rczn4_zonetemp.csv</td>\n",
       "      <td>72.675004</td>\n",
       "    </tr>\n",
       "    <tr>\n",
       "      <th>1</th>\n",
       "      <td>/ec_01_l2es_rczn2_zonetemp.csv</td>\n",
       "      <td>71.210184</td>\n",
       "    </tr>\n",
       "  </tbody>\n",
       "</table>\n",
       "</div>"
      ],
      "text/plain": [
       "                        zone name  temperature mean\n",
       "2  /ec_01_l2wc_rczn2_zonetemp.csv         74.207917\n",
       "0  /ec_01_l1ec_rczn4_zonetemp.csv         72.675004\n",
       "1  /ec_01_l2es_rczn2_zonetemp.csv         71.210184"
      ]
     },
     "execution_count": 6,
     "metadata": {},
     "output_type": "execute_result"
    }
   ],
   "source": [
    "temp_mean(9, 17, SMUD)"
   ]
  },
  {
   "cell_type": "markdown",
   "metadata": {},
   "source": [
    "## No.4: Temperature Variance "
   ]
  },
  {
   "cell_type": "code",
   "execution_count": 10,
   "metadata": {},
   "outputs": [],
   "source": [
    "from temperature_variance import temp_var"
   ]
  },
  {
   "cell_type": "code",
   "execution_count": 11,
   "metadata": {},
   "outputs": [
    {
     "data": {
      "text/html": [
       "<div>\n",
       "<style scoped>\n",
       "    .dataframe tbody tr th:only-of-type {\n",
       "        vertical-align: middle;\n",
       "    }\n",
       "\n",
       "    .dataframe tbody tr th {\n",
       "        vertical-align: top;\n",
       "    }\n",
       "\n",
       "    .dataframe thead th {\n",
       "        text-align: right;\n",
       "    }\n",
       "</style>\n",
       "<table border=\"1\" class=\"dataframe\">\n",
       "  <thead>\n",
       "    <tr style=\"text-align: right;\">\n",
       "      <th></th>\n",
       "      <th>zone name</th>\n",
       "      <th>temperature vairance</th>\n",
       "    </tr>\n",
       "  </thead>\n",
       "  <tbody>\n",
       "    <tr>\n",
       "      <th>2</th>\n",
       "      <td>/Field Bus1.BrowerRadiant4East.ZN2-T.csv</td>\n",
       "      <td>32.218171</td>\n",
       "    </tr>\n",
       "    <tr>\n",
       "      <th>1</th>\n",
       "      <td>/Field Bus1.BrowerRadiant3West.ZN1-T.csv</td>\n",
       "      <td>25.258746</td>\n",
       "    </tr>\n",
       "    <tr>\n",
       "      <th>0</th>\n",
       "      <td>/Field Bus1.BrowerRadiant2East.ZN2-T.csv</td>\n",
       "      <td>18.476287</td>\n",
       "    </tr>\n",
       "  </tbody>\n",
       "</table>\n",
       "</div>"
      ],
      "text/plain": [
       "                                  zone name  temperature vairance\n",
       "2  /Field Bus1.BrowerRadiant4East.ZN2-T.csv             32.218171\n",
       "1  /Field Bus1.BrowerRadiant3West.ZN1-T.csv             25.258746\n",
       "0  /Field Bus1.BrowerRadiant2East.ZN2-T.csv             18.476287"
      ]
     },
     "execution_count": 11,
     "metadata": {},
     "output_type": "execute_result"
    }
   ],
   "source": [
    "temp_var(9, 17, DBC)"
   ]
  },
  {
   "cell_type": "code",
   "execution_count": 11,
   "metadata": {},
   "outputs": [
    {
     "data": {
      "text/html": [
       "<div>\n",
       "<style scoped>\n",
       "    .dataframe tbody tr th:only-of-type {\n",
       "        vertical-align: middle;\n",
       "    }\n",
       "\n",
       "    .dataframe tbody tr th {\n",
       "        vertical-align: top;\n",
       "    }\n",
       "\n",
       "    .dataframe thead th {\n",
       "        text-align: right;\n",
       "    }\n",
       "</style>\n",
       "<table border=\"1\" class=\"dataframe\">\n",
       "  <thead>\n",
       "    <tr style=\"text-align: right;\">\n",
       "      <th></th>\n",
       "      <th>zone name</th>\n",
       "      <th>temperature vairance</th>\n",
       "    </tr>\n",
       "  </thead>\n",
       "  <tbody>\n",
       "    <tr>\n",
       "      <th>2</th>\n",
       "      <td>/881ae9c7-1415-4f07-ae11-e046ad1ba597.csv</td>\n",
       "      <td>82.984909</td>\n",
       "    </tr>\n",
       "    <tr>\n",
       "      <th>1</th>\n",
       "      <td>/5c8d94d7-ca6a-4823-9c96-5c6f1cceba13.csv</td>\n",
       "      <td>20.004948</td>\n",
       "    </tr>\n",
       "    <tr>\n",
       "      <th>0</th>\n",
       "      <td>/17e9e1d2-5e18-4a7d-960f-e44ee6f83a53.csv</td>\n",
       "      <td>1.448755</td>\n",
       "    </tr>\n",
       "  </tbody>\n",
       "</table>\n",
       "</div>"
      ],
      "text/plain": [
       "                                   zone name  temperature vairance\n",
       "2  /881ae9c7-1415-4f07-ae11-e046ad1ba597.csv             82.984909\n",
       "1  /5c8d94d7-ca6a-4823-9c96-5c6f1cceba13.csv             20.004948\n",
       "0  /17e9e1d2-5e18-4a7d-960f-e44ee6f83a53.csv              1.448755"
      ]
     },
     "execution_count": 11,
     "metadata": {},
     "output_type": "execute_result"
    }
   ],
   "source": [
    "# ？check\n",
    "temp_var(9, 17, SMC)"
   ]
  },
  {
   "cell_type": "code",
   "execution_count": 13,
   "metadata": {},
   "outputs": [
    {
     "data": {
      "text/html": [
       "<div>\n",
       "<style scoped>\n",
       "    .dataframe tbody tr th:only-of-type {\n",
       "        vertical-align: middle;\n",
       "    }\n",
       "\n",
       "    .dataframe tbody tr th {\n",
       "        vertical-align: top;\n",
       "    }\n",
       "\n",
       "    .dataframe thead th {\n",
       "        text-align: right;\n",
       "    }\n",
       "</style>\n",
       "<table border=\"1\" class=\"dataframe\">\n",
       "  <thead>\n",
       "    <tr style=\"text-align: right;\">\n",
       "      <th></th>\n",
       "      <th>zone name</th>\n",
       "      <th>temperature vairance</th>\n",
       "    </tr>\n",
       "  </thead>\n",
       "  <tbody>\n",
       "    <tr>\n",
       "      <th>1</th>\n",
       "      <td>/ec_01_l2es_rczn2_zonetemp.csv</td>\n",
       "      <td>1.092029</td>\n",
       "    </tr>\n",
       "    <tr>\n",
       "      <th>0</th>\n",
       "      <td>/ec_01_l1ec_rczn4_zonetemp.csv</td>\n",
       "      <td>0.564315</td>\n",
       "    </tr>\n",
       "    <tr>\n",
       "      <th>2</th>\n",
       "      <td>/ec_01_l2wc_rczn2_zonetemp.csv</td>\n",
       "      <td>0.559750</td>\n",
       "    </tr>\n",
       "  </tbody>\n",
       "</table>\n",
       "</div>"
      ],
      "text/plain": [
       "                        zone name  temperature vairance\n",
       "1  /ec_01_l2es_rczn2_zonetemp.csv              1.092029\n",
       "0  /ec_01_l1ec_rczn4_zonetemp.csv              0.564315\n",
       "2  /ec_01_l2wc_rczn2_zonetemp.csv              0.559750"
      ]
     },
     "execution_count": 13,
     "metadata": {},
     "output_type": "execute_result"
    }
   ],
   "source": [
    "temp_var(9, 17, SMUD)"
   ]
  },
  {
   "cell_type": "markdown",
   "metadata": {},
   "source": [
    "## No.5: Percentage of occupied days that daily temperature range are out of the threshold"
   ]
  },
  {
   "cell_type": "code",
   "execution_count": 3,
   "metadata": {},
   "outputs": [],
   "source": [
    "from temperature_daily_outlier import temp_daily"
   ]
  },
  {
   "cell_type": "code",
   "execution_count": 4,
   "metadata": {},
   "outputs": [
    {
     "data": {
      "text/html": [
       "<div>\n",
       "<style scoped>\n",
       "    .dataframe tbody tr th:only-of-type {\n",
       "        vertical-align: middle;\n",
       "    }\n",
       "\n",
       "    .dataframe tbody tr th {\n",
       "        vertical-align: top;\n",
       "    }\n",
       "\n",
       "    .dataframe thead th {\n",
       "        text-align: right;\n",
       "    }\n",
       "</style>\n",
       "<table border=\"1\" class=\"dataframe\">\n",
       "  <thead>\n",
       "    <tr style=\"text-align: right;\">\n",
       "      <th></th>\n",
       "      <th>zone name</th>\n",
       "      <th>outside percentage</th>\n",
       "      <th>0.20689655172413793percentile threshold</th>\n",
       "    </tr>\n",
       "  </thead>\n",
       "  <tbody>\n",
       "    <tr>\n",
       "      <th>1</th>\n",
       "      <td>/Field Bus1.BrowerRadiant3West.ZN1-T.csv</td>\n",
       "      <td>0.793103</td>\n",
       "      <td>0.811858</td>\n",
       "    </tr>\n",
       "    <tr>\n",
       "      <th>0</th>\n",
       "      <td>/Field Bus1.BrowerRadiant2East.ZN2-T.csv</td>\n",
       "      <td>0.206897</td>\n",
       "      <td>2.823125</td>\n",
       "    </tr>\n",
       "    <tr>\n",
       "      <th>2</th>\n",
       "      <td>/Field Bus1.BrowerRadiant4East.ZN2-T.csv</td>\n",
       "      <td>0.206897</td>\n",
       "      <td>3.247698</td>\n",
       "    </tr>\n",
       "  </tbody>\n",
       "</table>\n",
       "</div>"
      ],
      "text/plain": [
       "                                  zone name  outside percentage  \\\n",
       "1  /Field Bus1.BrowerRadiant3West.ZN1-T.csv            0.793103   \n",
       "0  /Field Bus1.BrowerRadiant2East.ZN2-T.csv            0.206897   \n",
       "2  /Field Bus1.BrowerRadiant4East.ZN2-T.csv            0.206897   \n",
       "\n",
       "   0.20689655172413793percentile threshold  \n",
       "1                                 0.811858  \n",
       "0                                 2.823125  \n",
       "2                                 3.247698  "
      ]
     },
     "execution_count": 4,
     "metadata": {},
     "output_type": "execute_result"
    }
   ],
   "source": [
    "e = '/Users/ruijisun/Desktop'\n",
    "temp_daily(9, 17, 0.8, DBC, e)"
   ]
  },
  {
   "cell_type": "code",
   "execution_count": null,
   "metadata": {},
   "outputs": [],
   "source": []
  },
  {
   "cell_type": "code",
   "execution_count": null,
   "metadata": {},
   "outputs": [],
   "source": []
  },
  {
   "cell_type": "code",
   "execution_count": null,
   "metadata": {},
   "outputs": [],
   "source": []
  },
  {
   "cell_type": "code",
   "execution_count": 1,
   "metadata": {},
   "outputs": [],
   "source": [
    "import pandas as pd\n",
    "import glob\n",
    "a = 9\n",
    "b = 17\n",
    "l = 72 \n",
    "u = 81\n",
    "p = 0.8\n",
    "f = '/Users/ruijisun/Box/Mortar zone and setpoint temperatures/20210727 Zone Temperature Data/DBC/Field Bus1.BrowerRadiant2East.ZN2-T.csv'\n",
    "e = '/Users/ruijisun/Desktop/'"
   ]
  },
  {
   "cell_type": "code",
   "execution_count": null,
   "metadata": {},
   "outputs": [],
   "source": []
  },
  {
   "cell_type": "code",
   "execution_count": null,
   "metadata": {},
   "outputs": [],
   "source": []
  },
  {
   "cell_type": "code",
   "execution_count": null,
   "metadata": {},
   "outputs": [],
   "source": []
  },
  {
   "cell_type": "code",
   "execution_count": 2,
   "metadata": {},
   "outputs": [],
   "source": [
    "df = pd.read_csv(f)\n",
    "time = df.columns[0]\n",
    "temp = df.columns[1]\n",
    "# get the date from the time for groupby function later on\n",
    "df['date'] = pd.to_datetime(df[time]).dt.date\n",
    "df['hour'] = pd.to_datetime(df[time]).dt.hour\n",
    "df['weekdays'] = pd.to_datetime(df[time]).dt.dayofweek\n",
    "# create a new dataframe for the specified office hours and weekdays\n",
    "df_occ = df[(df['hour'] >= a) & (df['hour'] < b) &\n",
    "            (df['weekdays'] >= 0) & (df['weekdays'] <= 4)]"
   ]
  },
  {
   "cell_type": "code",
   "execution_count": 12,
   "metadata": {},
   "outputs": [],
   "source": [
    "# get temperature data that are higher than the upper bound\n",
    "df_hot = df[(df[temp] > u)]\n",
    "# get temperature data that are lower than the lower bound\n",
    "df_cold = df[(df[temp] < l)]"
   ]
  },
  {
   "cell_type": "code",
   "execution_count": 23,
   "metadata": {},
   "outputs": [
    {
     "data": {
      "text/plain": [
       "0        1.700630\n",
       "1        1.700630\n",
       "2        1.700630\n",
       "3        1.700630\n",
       "4        1.497864\n",
       "           ...   \n",
       "34556    4.391296\n",
       "34557    4.391296\n",
       "34558    4.179893\n",
       "34559    4.179893\n",
       "34560    4.179893\n",
       "Name: /FS4/NAE00806603BECA/3001087/NAE00806603BECA/Field Bus1.BrowerRadiant2East.ZN2-T, Length: 31584, dtype: float64"
      ]
     },
     "execution_count": 23,
     "metadata": {},
     "output_type": "execute_result"
    }
   ],
   "source": [
    "l-df_cold[temp]"
   ]
  },
  {
   "cell_type": "code",
   "execution_count": 20,
   "metadata": {},
   "outputs": [],
   "source": [
    "# calculate daily temperature range by max minus min\n",
    "df_max = df_occ.groupby(['date']).max()\n",
    "df_min = df_occ.groupby(['date']).min()\n",
    "df_range = df_max[temp] - df_min[temp]\n",
    "df_range.rename(\"daily temperature range\").to_csv('./f.csv')"
   ]
  },
  {
   "cell_type": "code",
   "execution_count": 22,
   "metadata": {},
   "outputs": [
    {
     "data": {
      "text/plain": [
       "87"
      ]
     },
     "execution_count": 22,
     "metadata": {},
     "output_type": "execute_result"
    }
   ],
   "source": [
    "len(df_range)"
   ]
  },
  {
   "cell_type": "code",
   "execution_count": 25,
   "metadata": {},
   "outputs": [],
   "source": [
    "df_range"
   ]
  },
  {
   "cell_type": "code",
   "execution_count": null,
   "metadata": {},
   "outputs": [],
   "source": [
    "# get rows from the new dataframe that are out of the threshold\n",
    "t = df_range.quantile(p)\n",
    "df_out = df_range[(df_range > t)]\n",
    "# Calculate the percentage of occupied time outside the threshold\n",
    "p = len(df_out) / len(df_max)"
   ]
  }
 ],
 "metadata": {
  "kernelspec": {
   "display_name": "Python 3",
   "language": "python",
   "name": "python3"
  },
  "language_info": {
   "codemirror_mode": {
    "name": "ipython",
    "version": 3
   },
   "file_extension": ".py",
   "mimetype": "text/x-python",
   "name": "python",
   "nbconvert_exporter": "python",
   "pygments_lexer": "ipython3",
   "version": "3.8.5"
  }
 },
 "nbformat": 4,
 "nbformat_minor": 4
}

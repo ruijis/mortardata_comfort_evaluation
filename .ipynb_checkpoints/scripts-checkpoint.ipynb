{
 "cells": [
  {
   "cell_type": "markdown",
   "metadata": {},
   "source": [
    "# Different long-term thermal comfort indices for continuous monitoring"
   ]
  },
  {
   "cell_type": "markdown",
   "metadata": {},
   "source": [
    "## No.1: Percentage of occupied time outside a temeprature range"
   ]
  },
  {
   "cell_type": "code",
   "execution_count": 1,
   "metadata": {},
   "outputs": [],
   "source": [
    "from temperature_range_percentage import temp_range"
   ]
  },
  {
   "cell_type": "code",
   "execution_count": 2,
   "metadata": {},
   "outputs": [
    {
     "data": {
      "text/plain": [
       "\u001b[0;31mSignature:\u001b[0m \u001b[0mtemp_range\u001b[0m\u001b[0;34m(\u001b[0m\u001b[0ma\u001b[0m\u001b[0;34m,\u001b[0m \u001b[0mb\u001b[0m\u001b[0;34m,\u001b[0m \u001b[0ml\u001b[0m\u001b[0;34m,\u001b[0m \u001b[0mu\u001b[0m\u001b[0;34m,\u001b[0m \u001b[0mf\u001b[0m\u001b[0;34m)\u001b[0m\u001b[0;34m\u001b[0m\u001b[0;34m\u001b[0m\u001b[0m\n",
       "\u001b[0;31mDocstring:\u001b[0m\n",
       "Calculate the percentage of occupied time outside a temeprature range.\n",
       "The data file type should be CSV.\n",
       "The first column of the CSV file should be time.\n",
       "The second column of the CSV file should be temperature.\n",
       "\n",
       "Parameters\n",
       "----------\n",
       "a : int\n",
       "    The start time (24-hour clock) of normal office hours during weekdays\n",
       "b : int\n",
       "    The end time (24-hour clock) of normal office hours during weekdays\n",
       "l : float\n",
       "    lower bound of the tempearture range, with same units of the data\n",
       "u : float\n",
       "    upper bound of the temperature range, with same units of the data\n",
       "f : string\n",
       "    path of the fold that stores all CSV files\n",
       "\n",
       "Returns\n",
       "----------\n",
       "p : float\n",
       "    percentage of the time\n",
       "\u001b[0;31mFile:\u001b[0m      ~/Documents/GitHub/mortardata_comfort_evaluation/temperature_range_percentage.py\n",
       "\u001b[0;31mType:\u001b[0m      function\n"
      ]
     },
     "metadata": {},
     "output_type": "display_data"
    }
   ],
   "source": [
    "temp_range?"
   ]
  },
  {
   "cell_type": "code",
   "execution_count": 3,
   "metadata": {},
   "outputs": [],
   "source": [
    "DBC = '/Users/ruijisun/Box/Mortar zone and setpoint temperatures/20210727 Zone Temperature Data/DBC'\n",
    "SMC = '/Users/ruijisun/Box/Mortar zone and setpoint temperatures/20210727 Zone Temperature Data/SMC'\n",
    "SMUD = '/Users/ruijisun/Box/Mortar zone and setpoint temperatures/20210727 Zone Temperature Data/SMUD'"
   ]
  },
  {
   "cell_type": "code",
   "execution_count": 4,
   "metadata": {},
   "outputs": [
    {
     "data": {
      "text/html": [
       "<div>\n",
       "<style scoped>\n",
       "    .dataframe tbody tr th:only-of-type {\n",
       "        vertical-align: middle;\n",
       "    }\n",
       "\n",
       "    .dataframe tbody tr th {\n",
       "        vertical-align: top;\n",
       "    }\n",
       "\n",
       "    .dataframe thead th {\n",
       "        text-align: right;\n",
       "    }\n",
       "</style>\n",
       "<table border=\"1\" class=\"dataframe\">\n",
       "  <thead>\n",
       "    <tr style=\"text-align: right;\">\n",
       "      <th></th>\n",
       "      <th>zone name</th>\n",
       "      <th>outside percentage</th>\n",
       "    </tr>\n",
       "  </thead>\n",
       "  <tbody>\n",
       "    <tr>\n",
       "      <th>0</th>\n",
       "      <td>/Field Bus1.BrowerRadiant2East.ZN2-T.csv</td>\n",
       "      <td>0.817269</td>\n",
       "    </tr>\n",
       "    <tr>\n",
       "      <th>2</th>\n",
       "      <td>/Field Bus1.BrowerRadiant4East.ZN2-T.csv</td>\n",
       "      <td>0.397872</td>\n",
       "    </tr>\n",
       "    <tr>\n",
       "      <th>1</th>\n",
       "      <td>/Field Bus1.BrowerRadiant3West.ZN1-T.csv</td>\n",
       "      <td>0.380457</td>\n",
       "    </tr>\n",
       "  </tbody>\n",
       "</table>\n",
       "</div>"
      ],
      "text/plain": [
       "                                  zone name  outside percentage\n",
       "0  /Field Bus1.BrowerRadiant2East.ZN2-T.csv            0.817269\n",
       "2  /Field Bus1.BrowerRadiant4East.ZN2-T.csv            0.397872\n",
       "1  /Field Bus1.BrowerRadiant3West.ZN1-T.csv            0.380457"
      ]
     },
     "execution_count": 4,
     "metadata": {},
     "output_type": "execute_result"
    }
   ],
   "source": [
    "temp_range(9, 17, 72, 81, DBC)"
   ]
  },
  {
   "cell_type": "code",
   "execution_count": 5,
   "metadata": {},
   "outputs": [
    {
     "data": {
      "text/html": [
       "<div>\n",
       "<style scoped>\n",
       "    .dataframe tbody tr th:only-of-type {\n",
       "        vertical-align: middle;\n",
       "    }\n",
       "\n",
       "    .dataframe tbody tr th {\n",
       "        vertical-align: top;\n",
       "    }\n",
       "\n",
       "    .dataframe thead th {\n",
       "        text-align: right;\n",
       "    }\n",
       "</style>\n",
       "<table border=\"1\" class=\"dataframe\">\n",
       "  <thead>\n",
       "    <tr style=\"text-align: right;\">\n",
       "      <th></th>\n",
       "      <th>zone name</th>\n",
       "      <th>outside percentage</th>\n",
       "    </tr>\n",
       "  </thead>\n",
       "  <tbody>\n",
       "    <tr>\n",
       "      <th>2</th>\n",
       "      <td>/881ae9c7-1415-4f07-ae11-e046ad1ba597.csv</td>\n",
       "      <td>0.537967</td>\n",
       "    </tr>\n",
       "    <tr>\n",
       "      <th>1</th>\n",
       "      <td>/5c8d94d7-ca6a-4823-9c96-5c6f1cceba13.csv</td>\n",
       "      <td>0.510291</td>\n",
       "    </tr>\n",
       "    <tr>\n",
       "      <th>0</th>\n",
       "      <td>/17e9e1d2-5e18-4a7d-960f-e44ee6f83a53.csv</td>\n",
       "      <td>0.505558</td>\n",
       "    </tr>\n",
       "  </tbody>\n",
       "</table>\n",
       "</div>"
      ],
      "text/plain": [
       "                                   zone name  outside percentage\n",
       "2  /881ae9c7-1415-4f07-ae11-e046ad1ba597.csv            0.537967\n",
       "1  /5c8d94d7-ca6a-4823-9c96-5c6f1cceba13.csv            0.510291\n",
       "0  /17e9e1d2-5e18-4a7d-960f-e44ee6f83a53.csv            0.505558"
      ]
     },
     "execution_count": 5,
     "metadata": {},
     "output_type": "execute_result"
    }
   ],
   "source": [
    "temp_range(9, 17, 72, 81, SMC)"
   ]
  },
  {
   "cell_type": "code",
   "execution_count": 6,
   "metadata": {},
   "outputs": [
    {
     "data": {
      "text/html": [
       "<div>\n",
       "<style scoped>\n",
       "    .dataframe tbody tr th:only-of-type {\n",
       "        vertical-align: middle;\n",
       "    }\n",
       "\n",
       "    .dataframe tbody tr th {\n",
       "        vertical-align: top;\n",
       "    }\n",
       "\n",
       "    .dataframe thead th {\n",
       "        text-align: right;\n",
       "    }\n",
       "</style>\n",
       "<table border=\"1\" class=\"dataframe\">\n",
       "  <thead>\n",
       "    <tr style=\"text-align: right;\">\n",
       "      <th></th>\n",
       "      <th>zone name</th>\n",
       "      <th>outside percentage</th>\n",
       "    </tr>\n",
       "  </thead>\n",
       "  <tbody>\n",
       "    <tr>\n",
       "      <th>1</th>\n",
       "      <td>/ec_01_l2es_rczn2_zonetemp.csv</td>\n",
       "      <td>0.772284</td>\n",
       "    </tr>\n",
       "    <tr>\n",
       "      <th>0</th>\n",
       "      <td>/ec_01_l1ec_rczn4_zonetemp.csv</td>\n",
       "      <td>0.146483</td>\n",
       "    </tr>\n",
       "    <tr>\n",
       "      <th>2</th>\n",
       "      <td>/ec_01_l2wc_rczn2_zonetemp.csv</td>\n",
       "      <td>0.023980</td>\n",
       "    </tr>\n",
       "  </tbody>\n",
       "</table>\n",
       "</div>"
      ],
      "text/plain": [
       "                        zone name  outside percentage\n",
       "1  /ec_01_l2es_rczn2_zonetemp.csv            0.772284\n",
       "0  /ec_01_l1ec_rczn4_zonetemp.csv            0.146483\n",
       "2  /ec_01_l2wc_rczn2_zonetemp.csv            0.023980"
      ]
     },
     "execution_count": 6,
     "metadata": {},
     "output_type": "execute_result"
    }
   ],
   "source": [
    "temp_range(9, 17, 72, 81, SMUD)"
   ]
  },
  {
   "cell_type": "markdown",
   "metadata": {},
   "source": [
    "## No.2: Degree-hours"
   ]
  },
  {
   "cell_type": "code",
   "execution_count": null,
   "metadata": {},
   "outputs": [],
   "source": []
  },
  {
   "cell_type": "code",
   "execution_count": null,
   "metadata": {},
   "outputs": [],
   "source": []
  },
  {
   "cell_type": "markdown",
   "metadata": {},
   "source": [
    "## No.3: Temperature Mean Value"
   ]
  },
  {
   "cell_type": "code",
   "execution_count": 1,
   "metadata": {},
   "outputs": [],
   "source": [
    "from temperature_mean import temp_mean"
   ]
  },
  {
   "cell_type": "code",
   "execution_count": 4,
   "metadata": {
    "tags": []
   },
   "outputs": [
    {
     "data": {
      "text/html": [
       "<div>\n",
       "<style scoped>\n",
       "    .dataframe tbody tr th:only-of-type {\n",
       "        vertical-align: middle;\n",
       "    }\n",
       "\n",
       "    .dataframe tbody tr th {\n",
       "        vertical-align: top;\n",
       "    }\n",
       "\n",
       "    .dataframe thead th {\n",
       "        text-align: right;\n",
       "    }\n",
       "</style>\n",
       "<table border=\"1\" class=\"dataframe\">\n",
       "  <thead>\n",
       "    <tr style=\"text-align: right;\">\n",
       "      <th></th>\n",
       "      <th>zone name</th>\n",
       "      <th>temperature mean</th>\n",
       "    </tr>\n",
       "  </thead>\n",
       "  <tbody>\n",
       "    <tr>\n",
       "      <th>1</th>\n",
       "      <td>/Field Bus1.BrowerRadiant3West.ZN1-T.csv</td>\n",
       "      <td>72.632661</td>\n",
       "    </tr>\n",
       "    <tr>\n",
       "      <th>2</th>\n",
       "      <td>/Field Bus1.BrowerRadiant4East.ZN2-T.csv</td>\n",
       "      <td>71.572804</td>\n",
       "    </tr>\n",
       "    <tr>\n",
       "      <th>0</th>\n",
       "      <td>/Field Bus1.BrowerRadiant2East.ZN2-T.csv</td>\n",
       "      <td>67.820260</td>\n",
       "    </tr>\n",
       "  </tbody>\n",
       "</table>\n",
       "</div>"
      ],
      "text/plain": [
       "                                  zone name  temperature mean\n",
       "1  /Field Bus1.BrowerRadiant3West.ZN1-T.csv         72.632661\n",
       "2  /Field Bus1.BrowerRadiant4East.ZN2-T.csv         71.572804\n",
       "0  /Field Bus1.BrowerRadiant2East.ZN2-T.csv         67.820260"
      ]
     },
     "execution_count": 4,
     "metadata": {},
     "output_type": "execute_result"
    }
   ],
   "source": [
    "temp_mean(9, 17, DBC)"
   ]
  },
  {
   "cell_type": "code",
   "execution_count": 5,
   "metadata": {},
   "outputs": [
    {
     "data": {
      "text/html": [
       "<div>\n",
       "<style scoped>\n",
       "    .dataframe tbody tr th:only-of-type {\n",
       "        vertical-align: middle;\n",
       "    }\n",
       "\n",
       "    .dataframe tbody tr th {\n",
       "        vertical-align: top;\n",
       "    }\n",
       "\n",
       "    .dataframe thead th {\n",
       "        text-align: right;\n",
       "    }\n",
       "</style>\n",
       "<table border=\"1\" class=\"dataframe\">\n",
       "  <thead>\n",
       "    <tr style=\"text-align: right;\">\n",
       "      <th></th>\n",
       "      <th>zone name</th>\n",
       "      <th>temperature mean</th>\n",
       "    </tr>\n",
       "  </thead>\n",
       "  <tbody>\n",
       "    <tr>\n",
       "      <th>2</th>\n",
       "      <td>/881ae9c7-1415-4f07-ae11-e046ad1ba597.csv</td>\n",
       "      <td>72.291811</td>\n",
       "    </tr>\n",
       "    <tr>\n",
       "      <th>0</th>\n",
       "      <td>/17e9e1d2-5e18-4a7d-960f-e44ee6f83a53.csv</td>\n",
       "      <td>72.065779</td>\n",
       "    </tr>\n",
       "    <tr>\n",
       "      <th>1</th>\n",
       "      <td>/5c8d94d7-ca6a-4823-9c96-5c6f1cceba13.csv</td>\n",
       "      <td>71.863046</td>\n",
       "    </tr>\n",
       "  </tbody>\n",
       "</table>\n",
       "</div>"
      ],
      "text/plain": [
       "                                   zone name  temperature mean\n",
       "2  /881ae9c7-1415-4f07-ae11-e046ad1ba597.csv         72.291811\n",
       "0  /17e9e1d2-5e18-4a7d-960f-e44ee6f83a53.csv         72.065779\n",
       "1  /5c8d94d7-ca6a-4823-9c96-5c6f1cceba13.csv         71.863046"
      ]
     },
     "execution_count": 5,
     "metadata": {},
     "output_type": "execute_result"
    }
   ],
   "source": [
    "temp_mean(9, 17, SMC)"
   ]
  },
  {
   "cell_type": "code",
   "execution_count": 6,
   "metadata": {},
   "outputs": [
    {
     "data": {
      "text/html": [
       "<div>\n",
       "<style scoped>\n",
       "    .dataframe tbody tr th:only-of-type {\n",
       "        vertical-align: middle;\n",
       "    }\n",
       "\n",
       "    .dataframe tbody tr th {\n",
       "        vertical-align: top;\n",
       "    }\n",
       "\n",
       "    .dataframe thead th {\n",
       "        text-align: right;\n",
       "    }\n",
       "</style>\n",
       "<table border=\"1\" class=\"dataframe\">\n",
       "  <thead>\n",
       "    <tr style=\"text-align: right;\">\n",
       "      <th></th>\n",
       "      <th>zone name</th>\n",
       "      <th>temperature mean</th>\n",
       "    </tr>\n",
       "  </thead>\n",
       "  <tbody>\n",
       "    <tr>\n",
       "      <th>2</th>\n",
       "      <td>/ec_01_l2wc_rczn2_zonetemp.csv</td>\n",
       "      <td>74.207917</td>\n",
       "    </tr>\n",
       "    <tr>\n",
       "      <th>0</th>\n",
       "      <td>/ec_01_l1ec_rczn4_zonetemp.csv</td>\n",
       "      <td>72.675004</td>\n",
       "    </tr>\n",
       "    <tr>\n",
       "      <th>1</th>\n",
       "      <td>/ec_01_l2es_rczn2_zonetemp.csv</td>\n",
       "      <td>71.210184</td>\n",
       "    </tr>\n",
       "  </tbody>\n",
       "</table>\n",
       "</div>"
      ],
      "text/plain": [
       "                        zone name  temperature mean\n",
       "2  /ec_01_l2wc_rczn2_zonetemp.csv         74.207917\n",
       "0  /ec_01_l1ec_rczn4_zonetemp.csv         72.675004\n",
       "1  /ec_01_l2es_rczn2_zonetemp.csv         71.210184"
      ]
     },
     "execution_count": 6,
     "metadata": {},
     "output_type": "execute_result"
    }
   ],
   "source": [
    "temp_mean(9, 17, SMUD)"
   ]
  },
  {
   "cell_type": "markdown",
   "metadata": {},
   "source": [
    "## No.4: Temperature Variance "
   ]
  },
  {
   "cell_type": "code",
   "execution_count": 7,
   "metadata": {},
   "outputs": [],
   "source": [
    "from temperature_variance import temp_var"
   ]
  },
  {
   "cell_type": "code",
   "execution_count": 11,
   "metadata": {},
   "outputs": [
    {
     "data": {
      "text/html": [
       "<div>\n",
       "<style scoped>\n",
       "    .dataframe tbody tr th:only-of-type {\n",
       "        vertical-align: middle;\n",
       "    }\n",
       "\n",
       "    .dataframe tbody tr th {\n",
       "        vertical-align: top;\n",
       "    }\n",
       "\n",
       "    .dataframe thead th {\n",
       "        text-align: right;\n",
       "    }\n",
       "</style>\n",
       "<table border=\"1\" class=\"dataframe\">\n",
       "  <thead>\n",
       "    <tr style=\"text-align: right;\">\n",
       "      <th></th>\n",
       "      <th>zone name</th>\n",
       "      <th>temperature vairance</th>\n",
       "    </tr>\n",
       "  </thead>\n",
       "  <tbody>\n",
       "    <tr>\n",
       "      <th>2</th>\n",
       "      <td>/Field Bus1.BrowerRadiant4East.ZN2-T.csv</td>\n",
       "      <td>32.218171</td>\n",
       "    </tr>\n",
       "    <tr>\n",
       "      <th>1</th>\n",
       "      <td>/Field Bus1.BrowerRadiant3West.ZN1-T.csv</td>\n",
       "      <td>25.258746</td>\n",
       "    </tr>\n",
       "    <tr>\n",
       "      <th>0</th>\n",
       "      <td>/Field Bus1.BrowerRadiant2East.ZN2-T.csv</td>\n",
       "      <td>18.476287</td>\n",
       "    </tr>\n",
       "  </tbody>\n",
       "</table>\n",
       "</div>"
      ],
      "text/plain": [
       "                                  zone name  temperature vairance\n",
       "2  /Field Bus1.BrowerRadiant4East.ZN2-T.csv             32.218171\n",
       "1  /Field Bus1.BrowerRadiant3West.ZN1-T.csv             25.258746\n",
       "0  /Field Bus1.BrowerRadiant2East.ZN2-T.csv             18.476287"
      ]
     },
     "execution_count": 11,
     "metadata": {},
     "output_type": "execute_result"
    }
   ],
   "source": [
    "temp_var(9, 17, DBC)"
   ]
  },
  {
   "cell_type": "code",
   "execution_count": 12,
   "metadata": {},
   "outputs": [
    {
     "data": {
      "text/html": [
       "<div>\n",
       "<style scoped>\n",
       "    .dataframe tbody tr th:only-of-type {\n",
       "        vertical-align: middle;\n",
       "    }\n",
       "\n",
       "    .dataframe tbody tr th {\n",
       "        vertical-align: top;\n",
       "    }\n",
       "\n",
       "    .dataframe thead th {\n",
       "        text-align: right;\n",
       "    }\n",
       "</style>\n",
       "<table border=\"1\" class=\"dataframe\">\n",
       "  <thead>\n",
       "    <tr style=\"text-align: right;\">\n",
       "      <th></th>\n",
       "      <th>zone name</th>\n",
       "      <th>temperature vairance</th>\n",
       "    </tr>\n",
       "  </thead>\n",
       "  <tbody>\n",
       "    <tr>\n",
       "      <th>2</th>\n",
       "      <td>/881ae9c7-1415-4f07-ae11-e046ad1ba597.csv</td>\n",
       "      <td>82.984909</td>\n",
       "    </tr>\n",
       "    <tr>\n",
       "      <th>1</th>\n",
       "      <td>/5c8d94d7-ca6a-4823-9c96-5c6f1cceba13.csv</td>\n",
       "      <td>20.004948</td>\n",
       "    </tr>\n",
       "    <tr>\n",
       "      <th>0</th>\n",
       "      <td>/17e9e1d2-5e18-4a7d-960f-e44ee6f83a53.csv</td>\n",
       "      <td>1.448755</td>\n",
       "    </tr>\n",
       "  </tbody>\n",
       "</table>\n",
       "</div>"
      ],
      "text/plain": [
       "                                   zone name  temperature vairance\n",
       "2  /881ae9c7-1415-4f07-ae11-e046ad1ba597.csv             82.984909\n",
       "1  /5c8d94d7-ca6a-4823-9c96-5c6f1cceba13.csv             20.004948\n",
       "0  /17e9e1d2-5e18-4a7d-960f-e44ee6f83a53.csv              1.448755"
      ]
     },
     "execution_count": 12,
     "metadata": {},
     "output_type": "execute_result"
    }
   ],
   "source": [
    "temp_var(9, 17, SMC)"
   ]
  },
  {
   "cell_type": "code",
   "execution_count": 13,
   "metadata": {},
   "outputs": [
    {
     "data": {
      "text/html": [
       "<div>\n",
       "<style scoped>\n",
       "    .dataframe tbody tr th:only-of-type {\n",
       "        vertical-align: middle;\n",
       "    }\n",
       "\n",
       "    .dataframe tbody tr th {\n",
       "        vertical-align: top;\n",
       "    }\n",
       "\n",
       "    .dataframe thead th {\n",
       "        text-align: right;\n",
       "    }\n",
       "</style>\n",
       "<table border=\"1\" class=\"dataframe\">\n",
       "  <thead>\n",
       "    <tr style=\"text-align: right;\">\n",
       "      <th></th>\n",
       "      <th>zone name</th>\n",
       "      <th>temperature vairance</th>\n",
       "    </tr>\n",
       "  </thead>\n",
       "  <tbody>\n",
       "    <tr>\n",
       "      <th>1</th>\n",
       "      <td>/ec_01_l2es_rczn2_zonetemp.csv</td>\n",
       "      <td>1.092029</td>\n",
       "    </tr>\n",
       "    <tr>\n",
       "      <th>0</th>\n",
       "      <td>/ec_01_l1ec_rczn4_zonetemp.csv</td>\n",
       "      <td>0.564315</td>\n",
       "    </tr>\n",
       "    <tr>\n",
       "      <th>2</th>\n",
       "      <td>/ec_01_l2wc_rczn2_zonetemp.csv</td>\n",
       "      <td>0.559750</td>\n",
       "    </tr>\n",
       "  </tbody>\n",
       "</table>\n",
       "</div>"
      ],
      "text/plain": [
       "                        zone name  temperature vairance\n",
       "1  /ec_01_l2es_rczn2_zonetemp.csv              1.092029\n",
       "0  /ec_01_l1ec_rczn4_zonetemp.csv              0.564315\n",
       "2  /ec_01_l2wc_rczn2_zonetemp.csv              0.559750"
      ]
     },
     "execution_count": 13,
     "metadata": {},
     "output_type": "execute_result"
    }
   ],
   "source": [
    "temp_var(9, 17, SMUD)"
   ]
  },
  {
   "cell_type": "markdown",
   "metadata": {},
   "source": [
    "## No.5: Percentage of occupied days that daily temperature range are out of the threshold"
   ]
  },
  {
   "cell_type": "code",
   "execution_count": 1,
   "metadata": {},
   "outputs": [],
   "source": [
    "from temperature_daily_outlier import temp_daily"
   ]
  },
  {
   "cell_type": "code",
   "execution_count": 2,
   "metadata": {},
   "outputs": [
    {
     "ename": "NameError",
     "evalue": "name 'f' is not defined",
     "output_type": "error",
     "traceback": [
      "\u001b[0;31m---------------------------------------------------------------------------\u001b[0m",
      "\u001b[0;31mNameError\u001b[0m                                 Traceback (most recent call last)",
      "\u001b[0;32m<ipython-input-2-94ff0829ba9b>\u001b[0m in \u001b[0;36m<module>\u001b[0;34m\u001b[0m\n\u001b[1;32m      1\u001b[0m \u001b[0me\u001b[0m \u001b[0;34m=\u001b[0m \u001b[0;34m'/Users/ruijisun/Desktop'\u001b[0m\u001b[0;34m\u001b[0m\u001b[0;34m\u001b[0m\u001b[0m\n\u001b[0;32m----> 2\u001b[0;31m \u001b[0mtemp_daily\u001b[0m\u001b[0;34m(\u001b[0m\u001b[0;36m9\u001b[0m\u001b[0;34m,\u001b[0m \u001b[0;36m17\u001b[0m\u001b[0;34m,\u001b[0m \u001b[0;36m0.8\u001b[0m\u001b[0;34m,\u001b[0m \u001b[0mf\u001b[0m\u001b[0;34m,\u001b[0m \u001b[0mDBC\u001b[0m\u001b[0;34m)\u001b[0m\u001b[0;34m\u001b[0m\u001b[0;34m\u001b[0m\u001b[0m\n\u001b[0m",
      "\u001b[0;31mNameError\u001b[0m: name 'f' is not defined"
     ]
    }
   ],
   "source": [
    "e = '/Users/ruijisun/Desktop'\n",
    "temp_daily(9, 17, 0.8, DBC, e)"
   ]
  },
  {
   "cell_type": "code",
   "execution_count": null,
   "metadata": {},
   "outputs": [],
   "source": []
  },
  {
   "cell_type": "code",
   "execution_count": null,
   "metadata": {},
   "outputs": [],
   "source": []
  },
  {
   "cell_type": "code",
   "execution_count": null,
   "metadata": {},
   "outputs": [],
   "source": []
  },
  {
   "cell_type": "code",
   "execution_count": 6,
   "metadata": {},
   "outputs": [],
   "source": [
    "import pandas as pd\n",
    "import glob\n",
    "a = 9\n",
    "b = 17\n",
    "l = 72 \n",
    "u = 81\n",
    "p = 0.8\n",
    "f = '/Users/ruijisun/Box/Mortar zone and setpoint temperatures/20210727 Zone Temperature Data/DBC/Field Bus1.BrowerRadiant2East.ZN2-T.csv'\n",
    "e = '/Users/ruijisun/Desktop/'"
   ]
  },
  {
   "cell_type": "code",
   "execution_count": null,
   "metadata": {},
   "outputs": [],
   "source": []
  },
  {
   "cell_type": "code",
   "execution_count": null,
   "metadata": {},
   "outputs": [],
   "source": []
  },
  {
   "cell_type": "code",
   "execution_count": null,
   "metadata": {},
   "outputs": [],
   "source": []
  },
  {
   "cell_type": "code",
   "execution_count": 5,
   "metadata": {},
   "outputs": [],
   "source": [
    "df = pd.read_csv(f)\n",
    "time = df.columns[0]\n",
    "temp = df.columns[1]\n",
    "# get the date from the time for groupby function later on\n",
    "df['date'] = pd.to_datetime(df[time]).dt.date\n",
    "df['hour'] = pd.to_datetime(df[time]).dt.hour\n",
    "df['weekdays'] = pd.to_datetime(df[time]).dt.dayofweek\n",
    "# create a new dataframe for the specified office hours and weekdays\n",
    "df_occ = df[(df['hour'] >= a) & (df['hour'] < b) &\n",
    "            (df['weekdays'] >= 0) & (df['weekdays'] <= 4)]"
   ]
  },
  {
   "cell_type": "code",
   "execution_count": 6,
   "metadata": {},
   "outputs": [
    {
     "data": {
      "text/html": [
       "<div>\n",
       "<style scoped>\n",
       "    .dataframe tbody tr th:only-of-type {\n",
       "        vertical-align: middle;\n",
       "    }\n",
       "\n",
       "    .dataframe tbody tr th {\n",
       "        vertical-align: top;\n",
       "    }\n",
       "\n",
       "    .dataframe thead th {\n",
       "        text-align: right;\n",
       "    }\n",
       "</style>\n",
       "<table border=\"1\" class=\"dataframe\">\n",
       "  <thead>\n",
       "    <tr style=\"text-align: right;\">\n",
       "      <th></th>\n",
       "      <th>datetime</th>\n",
       "      <th>/FS4/NAE00806603BECA/3001087/NAE00806603BECA/Field Bus1.BrowerRadiant2East.ZN2-T</th>\n",
       "      <th>date</th>\n",
       "      <th>hour</th>\n",
       "      <th>weekdays</th>\n",
       "    </tr>\n",
       "  </thead>\n",
       "  <tbody>\n",
       "    <tr>\n",
       "      <th>0</th>\n",
       "      <td>2020-12-01 10:05:00</td>\n",
       "      <td>70.299370</td>\n",
       "      <td>2020-12-01</td>\n",
       "      <td>10</td>\n",
       "      <td>1</td>\n",
       "    </tr>\n",
       "    <tr>\n",
       "      <th>1</th>\n",
       "      <td>2020-12-01 10:10:00</td>\n",
       "      <td>70.299370</td>\n",
       "      <td>2020-12-01</td>\n",
       "      <td>10</td>\n",
       "      <td>1</td>\n",
       "    </tr>\n",
       "    <tr>\n",
       "      <th>2</th>\n",
       "      <td>2020-12-01 10:15:00</td>\n",
       "      <td>70.299370</td>\n",
       "      <td>2020-12-01</td>\n",
       "      <td>10</td>\n",
       "      <td>1</td>\n",
       "    </tr>\n",
       "    <tr>\n",
       "      <th>3</th>\n",
       "      <td>2020-12-01 10:20:00</td>\n",
       "      <td>70.299370</td>\n",
       "      <td>2020-12-01</td>\n",
       "      <td>10</td>\n",
       "      <td>1</td>\n",
       "    </tr>\n",
       "    <tr>\n",
       "      <th>4</th>\n",
       "      <td>2020-12-01 10:25:00</td>\n",
       "      <td>70.502136</td>\n",
       "      <td>2020-12-01</td>\n",
       "      <td>10</td>\n",
       "      <td>1</td>\n",
       "    </tr>\n",
       "    <tr>\n",
       "      <th>...</th>\n",
       "      <td>...</td>\n",
       "      <td>...</td>\n",
       "      <td>...</td>\n",
       "      <td>...</td>\n",
       "      <td>...</td>\n",
       "    </tr>\n",
       "    <tr>\n",
       "      <th>34556</th>\n",
       "      <td>2021-03-31 10:45:00</td>\n",
       "      <td>67.608704</td>\n",
       "      <td>2021-03-31</td>\n",
       "      <td>10</td>\n",
       "      <td>2</td>\n",
       "    </tr>\n",
       "    <tr>\n",
       "      <th>34557</th>\n",
       "      <td>2021-03-31 10:50:00</td>\n",
       "      <td>67.608704</td>\n",
       "      <td>2021-03-31</td>\n",
       "      <td>10</td>\n",
       "      <td>2</td>\n",
       "    </tr>\n",
       "    <tr>\n",
       "      <th>34558</th>\n",
       "      <td>2021-03-31 10:55:00</td>\n",
       "      <td>67.820107</td>\n",
       "      <td>2021-03-31</td>\n",
       "      <td>10</td>\n",
       "      <td>2</td>\n",
       "    </tr>\n",
       "    <tr>\n",
       "      <th>34559</th>\n",
       "      <td>2021-03-31 11:00:00</td>\n",
       "      <td>67.820107</td>\n",
       "      <td>2021-03-31</td>\n",
       "      <td>11</td>\n",
       "      <td>2</td>\n",
       "    </tr>\n",
       "    <tr>\n",
       "      <th>34560</th>\n",
       "      <td>2021-03-31 11:05:00</td>\n",
       "      <td>67.820107</td>\n",
       "      <td>2021-03-31</td>\n",
       "      <td>11</td>\n",
       "      <td>2</td>\n",
       "    </tr>\n",
       "  </tbody>\n",
       "</table>\n",
       "<p>8269 rows × 5 columns</p>\n",
       "</div>"
      ],
      "text/plain": [
       "                  datetime  \\\n",
       "0      2020-12-01 10:05:00   \n",
       "1      2020-12-01 10:10:00   \n",
       "2      2020-12-01 10:15:00   \n",
       "3      2020-12-01 10:20:00   \n",
       "4      2020-12-01 10:25:00   \n",
       "...                    ...   \n",
       "34556  2021-03-31 10:45:00   \n",
       "34557  2021-03-31 10:50:00   \n",
       "34558  2021-03-31 10:55:00   \n",
       "34559  2021-03-31 11:00:00   \n",
       "34560  2021-03-31 11:05:00   \n",
       "\n",
       "       /FS4/NAE00806603BECA/3001087/NAE00806603BECA/Field Bus1.BrowerRadiant2East.ZN2-T  \\\n",
       "0                                              70.299370                                  \n",
       "1                                              70.299370                                  \n",
       "2                                              70.299370                                  \n",
       "3                                              70.299370                                  \n",
       "4                                              70.502136                                  \n",
       "...                                                  ...                                  \n",
       "34556                                          67.608704                                  \n",
       "34557                                          67.608704                                  \n",
       "34558                                          67.820107                                  \n",
       "34559                                          67.820107                                  \n",
       "34560                                          67.820107                                  \n",
       "\n",
       "             date  hour  weekdays  \n",
       "0      2020-12-01    10         1  \n",
       "1      2020-12-01    10         1  \n",
       "2      2020-12-01    10         1  \n",
       "3      2020-12-01    10         1  \n",
       "4      2020-12-01    10         1  \n",
       "...           ...   ...       ...  \n",
       "34556  2021-03-31    10         2  \n",
       "34557  2021-03-31    10         2  \n",
       "34558  2021-03-31    10         2  \n",
       "34559  2021-03-31    11         2  \n",
       "34560  2021-03-31    11         2  \n",
       "\n",
       "[8269 rows x 5 columns]"
      ]
     },
     "execution_count": 6,
     "metadata": {},
     "output_type": "execute_result"
    }
   ],
   "source": [
    "df_occ"
   ]
  },
  {
   "cell_type": "code",
   "execution_count": 9,
   "metadata": {},
   "outputs": [
    {
     "data": {
      "text/html": [
       "<div>\n",
       "<style scoped>\n",
       "    .dataframe tbody tr th:only-of-type {\n",
       "        vertical-align: middle;\n",
       "    }\n",
       "\n",
       "    .dataframe tbody tr th {\n",
       "        vertical-align: top;\n",
       "    }\n",
       "\n",
       "    .dataframe thead th {\n",
       "        text-align: right;\n",
       "    }\n",
       "</style>\n",
       "<table border=\"1\" class=\"dataframe\">\n",
       "  <thead>\n",
       "    <tr style=\"text-align: right;\">\n",
       "      <th></th>\n",
       "      <th>datetime</th>\n",
       "      <th>/FS4/NAE00806603BECA/3001087/NAE00806603BECA/Field Bus1.BrowerRadiant2East.ZN2-T</th>\n",
       "      <th>date</th>\n",
       "      <th>hour</th>\n",
       "      <th>weekdays</th>\n",
       "    </tr>\n",
       "  </thead>\n",
       "  <tbody>\n",
       "    <tr>\n",
       "      <th>0</th>\n",
       "      <td>2020-12-01 10:05:00</td>\n",
       "      <td>70.299370</td>\n",
       "      <td>2020-12-01</td>\n",
       "      <td>10</td>\n",
       "      <td>1</td>\n",
       "    </tr>\n",
       "    <tr>\n",
       "      <th>1</th>\n",
       "      <td>2020-12-01 10:10:00</td>\n",
       "      <td>70.299370</td>\n",
       "      <td>2020-12-01</td>\n",
       "      <td>10</td>\n",
       "      <td>1</td>\n",
       "    </tr>\n",
       "    <tr>\n",
       "      <th>2</th>\n",
       "      <td>2020-12-01 10:15:00</td>\n",
       "      <td>70.299370</td>\n",
       "      <td>2020-12-01</td>\n",
       "      <td>10</td>\n",
       "      <td>1</td>\n",
       "    </tr>\n",
       "    <tr>\n",
       "      <th>3</th>\n",
       "      <td>2020-12-01 10:20:00</td>\n",
       "      <td>70.299370</td>\n",
       "      <td>2020-12-01</td>\n",
       "      <td>10</td>\n",
       "      <td>1</td>\n",
       "    </tr>\n",
       "    <tr>\n",
       "      <th>4</th>\n",
       "      <td>2020-12-01 10:25:00</td>\n",
       "      <td>70.502136</td>\n",
       "      <td>2020-12-01</td>\n",
       "      <td>10</td>\n",
       "      <td>1</td>\n",
       "    </tr>\n",
       "    <tr>\n",
       "      <th>...</th>\n",
       "      <td>...</td>\n",
       "      <td>...</td>\n",
       "      <td>...</td>\n",
       "      <td>...</td>\n",
       "      <td>...</td>\n",
       "    </tr>\n",
       "    <tr>\n",
       "      <th>34556</th>\n",
       "      <td>2021-03-31 10:45:00</td>\n",
       "      <td>67.608704</td>\n",
       "      <td>2021-03-31</td>\n",
       "      <td>10</td>\n",
       "      <td>2</td>\n",
       "    </tr>\n",
       "    <tr>\n",
       "      <th>34557</th>\n",
       "      <td>2021-03-31 10:50:00</td>\n",
       "      <td>67.608704</td>\n",
       "      <td>2021-03-31</td>\n",
       "      <td>10</td>\n",
       "      <td>2</td>\n",
       "    </tr>\n",
       "    <tr>\n",
       "      <th>34558</th>\n",
       "      <td>2021-03-31 10:55:00</td>\n",
       "      <td>67.820107</td>\n",
       "      <td>2021-03-31</td>\n",
       "      <td>10</td>\n",
       "      <td>2</td>\n",
       "    </tr>\n",
       "    <tr>\n",
       "      <th>34559</th>\n",
       "      <td>2021-03-31 11:00:00</td>\n",
       "      <td>67.820107</td>\n",
       "      <td>2021-03-31</td>\n",
       "      <td>11</td>\n",
       "      <td>2</td>\n",
       "    </tr>\n",
       "    <tr>\n",
       "      <th>34560</th>\n",
       "      <td>2021-03-31 11:05:00</td>\n",
       "      <td>67.820107</td>\n",
       "      <td>2021-03-31</td>\n",
       "      <td>11</td>\n",
       "      <td>2</td>\n",
       "    </tr>\n",
       "  </tbody>\n",
       "</table>\n",
       "<p>6758 rows × 5 columns</p>\n",
       "</div>"
      ],
      "text/plain": [
       "                  datetime  \\\n",
       "0      2020-12-01 10:05:00   \n",
       "1      2020-12-01 10:10:00   \n",
       "2      2020-12-01 10:15:00   \n",
       "3      2020-12-01 10:20:00   \n",
       "4      2020-12-01 10:25:00   \n",
       "...                    ...   \n",
       "34556  2021-03-31 10:45:00   \n",
       "34557  2021-03-31 10:50:00   \n",
       "34558  2021-03-31 10:55:00   \n",
       "34559  2021-03-31 11:00:00   \n",
       "34560  2021-03-31 11:05:00   \n",
       "\n",
       "       /FS4/NAE00806603BECA/3001087/NAE00806603BECA/Field Bus1.BrowerRadiant2East.ZN2-T  \\\n",
       "0                                              70.299370                                  \n",
       "1                                              70.299370                                  \n",
       "2                                              70.299370                                  \n",
       "3                                              70.299370                                  \n",
       "4                                              70.502136                                  \n",
       "...                                                  ...                                  \n",
       "34556                                          67.608704                                  \n",
       "34557                                          67.608704                                  \n",
       "34558                                          67.820107                                  \n",
       "34559                                          67.820107                                  \n",
       "34560                                          67.820107                                  \n",
       "\n",
       "             date  hour  weekdays  \n",
       "0      2020-12-01    10         1  \n",
       "1      2020-12-01    10         1  \n",
       "2      2020-12-01    10         1  \n",
       "3      2020-12-01    10         1  \n",
       "4      2020-12-01    10         1  \n",
       "...           ...   ...       ...  \n",
       "34556  2021-03-31    10         2  \n",
       "34557  2021-03-31    10         2  \n",
       "34558  2021-03-31    10         2  \n",
       "34559  2021-03-31    11         2  \n",
       "34560  2021-03-31    11         2  \n",
       "\n",
       "[6758 rows x 5 columns]"
      ]
     },
     "execution_count": 9,
     "metadata": {},
     "output_type": "execute_result"
    }
   ],
   "source": [
    "df_out = df_occ[(df_occ[temp] < l) | (df_occ[temp] > u)]\n",
    "df_out"
   ]
  },
  {
   "cell_type": "code",
   "execution_count": 6,
   "metadata": {},
   "outputs": [],
   "source": [
    "# calculate daily temperature range by max minus min\n",
    "df_max = df_occ.groupby(['date']).max()\n",
    "df_min = df_occ.groupby(['date']).min()\n",
    "df_range = df_max[temp] - df_min[temp]\n",
    "df_range.rename(\"daily temperature range\").to_csv('./f.csv')"
   ]
  },
  {
   "cell_type": "code",
   "execution_count": 7,
   "metadata": {},
   "outputs": [
    {
     "data": {
      "text/plain": [
       "date\n",
       "2020-12-01    1.812111\n",
       "2020-12-02    2.847229\n",
       "2020-12-03    2.847633\n",
       "2020-12-04    2.434929\n",
       "2020-12-07    3.247620\n",
       "                ...   \n",
       "2021-03-25    1.608479\n",
       "2021-03-26    1.810432\n",
       "2021-03-29    1.213501\n",
       "2021-03-30    1.628166\n",
       "2021-03-31    1.025452\n",
       "Name: /FS4/NAE00806603BECA/3001087/NAE00806603BECA/Field Bus1.BrowerRadiant2East.ZN2-T, Length: 87, dtype: float64"
      ]
     },
     "execution_count": 7,
     "metadata": {},
     "output_type": "execute_result"
    }
   ],
   "source": [
    "df_range"
   ]
  },
  {
   "cell_type": "code",
   "execution_count": 25,
   "metadata": {},
   "outputs": [],
   "source": [
    "df_range"
   ]
  },
  {
   "cell_type": "code",
   "execution_count": null,
   "metadata": {},
   "outputs": [],
   "source": [
    "# get rows from the new dataframe that are out of the threshold\n",
    "t = df_range.quantile(p)\n",
    "df_out = df_range[(df_range > t)]\n",
    "# Calculate the percentage of occupied time outside the threshold\n",
    "p = len(df_out) / len(df_max)"
   ]
  }
 ],
 "metadata": {
  "kernelspec": {
   "display_name": "Python 3",
   "language": "python",
   "name": "python3"
  },
  "language_info": {
   "codemirror_mode": {
    "name": "ipython",
    "version": 3
   },
   "file_extension": ".py",
   "mimetype": "text/x-python",
   "name": "python",
   "nbconvert_exporter": "python",
   "pygments_lexer": "ipython3",
   "version": "3.8.5"
  }
 },
 "nbformat": 4,
 "nbformat_minor": 4
}

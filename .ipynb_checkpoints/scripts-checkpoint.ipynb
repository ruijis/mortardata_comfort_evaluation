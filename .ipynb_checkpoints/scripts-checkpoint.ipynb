{
 "cells": [
  {
   "cell_type": "markdown",
   "metadata": {},
   "source": [
    "# Different long-term thermal comfort indices for continuous monitoring"
   ]
  },
  {
   "cell_type": "code",
   "execution_count": 12,
   "metadata": {},
   "outputs": [],
   "source": [
    "import pandas as pd\n",
    "import glob"
   ]
  },
  {
   "cell_type": "code",
   "execution_count": 13,
   "metadata": {},
   "outputs": [],
   "source": [
    "folder = DBC = '/Users/ruijisun/Box/Mortar zone and setpoint temperatures/zone_dat'\n",
    "path = glob.glob(f\"{folder}/gbsf*.csv\")"
   ]
  },
  {
   "cell_type": "code",
   "execution_count": null,
   "metadata": {},
   "outputs": [],
   "source": [
    "for i in path:\n",
    "    "
   ]
  },
  {
   "cell_type": "markdown",
   "metadata": {},
   "source": [
    "## No.1: Percentage of occupied time outside a temeprature range"
   ]
  },
  {
   "cell_type": "code",
   "execution_count": 9,
   "metadata": {},
   "outputs": [],
   "source": [
    "from zone_discomfort_evaluation.hourly_outlier import *"
   ]
  },
  {
   "cell_type": "code",
   "execution_count": 10,
   "metadata": {},
   "outputs": [
    {
     "data": {
      "text/plain": [
       "\u001b[0;31mSignature:\u001b[0m \u001b[0mhourly_outlier\u001b[0m\u001b[0;34m(\u001b[0m\u001b[0ma\u001b[0m\u001b[0;34m,\u001b[0m \u001b[0mb\u001b[0m\u001b[0;34m,\u001b[0m \u001b[0ml\u001b[0m\u001b[0;34m,\u001b[0m \u001b[0mu\u001b[0m\u001b[0;34m,\u001b[0m \u001b[0mf\u001b[0m\u001b[0;34m)\u001b[0m\u001b[0;34m\u001b[0m\u001b[0;34m\u001b[0m\u001b[0m\n",
       "\u001b[0;31mDocstring:\u001b[0m\n",
       "Calculate the percentage of occupied time outside a temeprature range.\n",
       "The data file type should be CSV.\n",
       "The first column of the CSV file should be time.\n",
       "The second column of the CSV file should be temperature.\n",
       "\n",
       "Parameters\n",
       "----------\n",
       "a : int\n",
       "    The start time (24-hour clock) of normal office hours during weekdays\n",
       "b : int\n",
       "    The end time (24-hour clock) of normal office hours during weekdays\n",
       "l : float\n",
       "    lower bound of the tempearture range, with same units of the data\n",
       "u : float\n",
       "    upper bound of the temperature range, with same units of the data\n",
       "f : string\n",
       "    path of the fold that stores all CSV files\n",
       "\n",
       "Returns\n",
       "----------\n",
       "p : float\n",
       "    percentage of the time\n",
       "\u001b[0;31mFile:\u001b[0m      ~/Documents/GitHub/mortardata_comfort_evaluation/zone_discomfort_evaluation/hourly_outlier.py\n",
       "\u001b[0;31mType:\u001b[0m      function\n"
      ]
     },
     "metadata": {},
     "output_type": "display_data"
    }
   ],
   "source": [
    "hourly_outlier?"
   ]
  },
  {
   "cell_type": "code",
   "execution_count": 1,
   "metadata": {},
   "outputs": [],
   "source": [
    "DBC = '/Users/ruijisun/Box/Mortar zone and setpoint temperatures/20210727 Zone Temperature Data/DBC'\n",
    "SMC = '/Users/ruijisun/Box/Mortar zone and setpoint temperatures/20210727 Zone Temperature Data/SMC'\n",
    "SMUD = '/Users/ruijisun/Box/Mortar zone and setpoint temperatures/20210727 Zone Temperature Data/SMUD'"
   ]
  },
  {
   "cell_type": "code",
   "execution_count": 18,
   "metadata": {},
   "outputs": [
    {
     "data": {
      "text/html": [
       "<div>\n",
       "<style scoped>\n",
       "    .dataframe tbody tr th:only-of-type {\n",
       "        vertical-align: middle;\n",
       "    }\n",
       "\n",
       "    .dataframe tbody tr th {\n",
       "        vertical-align: top;\n",
       "    }\n",
       "\n",
       "    .dataframe thead th {\n",
       "        text-align: right;\n",
       "    }\n",
       "</style>\n",
       "<table border=\"1\" class=\"dataframe\">\n",
       "  <thead>\n",
       "    <tr style=\"text-align: right;\">\n",
       "      <th></th>\n",
       "      <th>zone name</th>\n",
       "      <th>outside percentage</th>\n",
       "    </tr>\n",
       "  </thead>\n",
       "  <tbody>\n",
       "    <tr>\n",
       "      <th>0</th>\n",
       "      <td>/Field Bus1.BrowerRadiant2East.ZN2-T.csv</td>\n",
       "      <td>0.596807</td>\n",
       "    </tr>\n",
       "    <tr>\n",
       "      <th>2</th>\n",
       "      <td>/Field Bus1.BrowerRadiant4East.ZN2-T.csv</td>\n",
       "      <td>0.412625</td>\n",
       "    </tr>\n",
       "    <tr>\n",
       "      <th>1</th>\n",
       "      <td>/Field Bus1.BrowerRadiant3West.ZN1-T.csv</td>\n",
       "      <td>0.407425</td>\n",
       "    </tr>\n",
       "  </tbody>\n",
       "</table>\n",
       "</div>"
      ],
      "text/plain": [
       "                                  zone name  outside percentage\n",
       "0  /Field Bus1.BrowerRadiant2East.ZN2-T.csv            0.596807\n",
       "2  /Field Bus1.BrowerRadiant4East.ZN2-T.csv            0.412625\n",
       "1  /Field Bus1.BrowerRadiant3West.ZN1-T.csv            0.407425"
      ]
     },
     "execution_count": 18,
     "metadata": {},
     "output_type": "execute_result"
    }
   ],
   "source": [
    "hourly_outlier(9, 17, 70, 78, DBC)"
   ]
  },
  {
   "cell_type": "code",
   "execution_count": 19,
   "metadata": {},
   "outputs": [
    {
     "data": {
      "text/html": [
       "<div>\n",
       "<style scoped>\n",
       "    .dataframe tbody tr th:only-of-type {\n",
       "        vertical-align: middle;\n",
       "    }\n",
       "\n",
       "    .dataframe tbody tr th {\n",
       "        vertical-align: top;\n",
       "    }\n",
       "\n",
       "    .dataframe thead th {\n",
       "        text-align: right;\n",
       "    }\n",
       "</style>\n",
       "<table border=\"1\" class=\"dataframe\">\n",
       "  <thead>\n",
       "    <tr style=\"text-align: right;\">\n",
       "      <th></th>\n",
       "      <th>zone name</th>\n",
       "      <th>outside percentage</th>\n",
       "    </tr>\n",
       "  </thead>\n",
       "  <tbody>\n",
       "    <tr>\n",
       "      <th>2</th>\n",
       "      <td>/881ae9c7-1415-4f07-ae11-e046ad1ba597.csv</td>\n",
       "      <td>0.537967</td>\n",
       "    </tr>\n",
       "    <tr>\n",
       "      <th>1</th>\n",
       "      <td>/5c8d94d7-ca6a-4823-9c96-5c6f1cceba13.csv</td>\n",
       "      <td>0.510291</td>\n",
       "    </tr>\n",
       "    <tr>\n",
       "      <th>0</th>\n",
       "      <td>/17e9e1d2-5e18-4a7d-960f-e44ee6f83a53.csv</td>\n",
       "      <td>0.505558</td>\n",
       "    </tr>\n",
       "  </tbody>\n",
       "</table>\n",
       "</div>"
      ],
      "text/plain": [
       "                                   zone name  outside percentage\n",
       "2  /881ae9c7-1415-4f07-ae11-e046ad1ba597.csv            0.537967\n",
       "1  /5c8d94d7-ca6a-4823-9c96-5c6f1cceba13.csv            0.510291\n",
       "0  /17e9e1d2-5e18-4a7d-960f-e44ee6f83a53.csv            0.505558"
      ]
     },
     "execution_count": 19,
     "metadata": {},
     "output_type": "execute_result"
    }
   ],
   "source": [
    "hourly_outlier(9, 17, 72, 81, SMC)"
   ]
  },
  {
   "cell_type": "code",
   "execution_count": 6,
   "metadata": {},
   "outputs": [
    {
     "data": {
      "text/html": [
       "<div>\n",
       "<style scoped>\n",
       "    .dataframe tbody tr th:only-of-type {\n",
       "        vertical-align: middle;\n",
       "    }\n",
       "\n",
       "    .dataframe tbody tr th {\n",
       "        vertical-align: top;\n",
       "    }\n",
       "\n",
       "    .dataframe thead th {\n",
       "        text-align: right;\n",
       "    }\n",
       "</style>\n",
       "<table border=\"1\" class=\"dataframe\">\n",
       "  <thead>\n",
       "    <tr style=\"text-align: right;\">\n",
       "      <th></th>\n",
       "      <th>zone name</th>\n",
       "      <th>outside percentage</th>\n",
       "    </tr>\n",
       "  </thead>\n",
       "  <tbody>\n",
       "    <tr>\n",
       "      <th>1</th>\n",
       "      <td>/ec_01_l2es_rczn2_zonetemp.csv</td>\n",
       "      <td>0.772284</td>\n",
       "    </tr>\n",
       "    <tr>\n",
       "      <th>0</th>\n",
       "      <td>/ec_01_l1ec_rczn4_zonetemp.csv</td>\n",
       "      <td>0.146483</td>\n",
       "    </tr>\n",
       "    <tr>\n",
       "      <th>2</th>\n",
       "      <td>/ec_01_l2wc_rczn2_zonetemp.csv</td>\n",
       "      <td>0.023980</td>\n",
       "    </tr>\n",
       "  </tbody>\n",
       "</table>\n",
       "</div>"
      ],
      "text/plain": [
       "                        zone name  outside percentage\n",
       "1  /ec_01_l2es_rczn2_zonetemp.csv            0.772284\n",
       "0  /ec_01_l1ec_rczn4_zonetemp.csv            0.146483\n",
       "2  /ec_01_l2wc_rczn2_zonetemp.csv            0.023980"
      ]
     },
     "execution_count": 6,
     "metadata": {},
     "output_type": "execute_result"
    }
   ],
   "source": [
    "hourly_outlier(9, 17, 72, 81, SMUD)"
   ]
  },
  {
   "cell_type": "markdown",
   "metadata": {},
   "source": [
    "## No.2: Degree-hours"
   ]
  },
  {
   "cell_type": "code",
   "execution_count": 20,
   "metadata": {},
   "outputs": [],
   "source": [
    "from zone_discomfort_evaluation.degree_hours import degree_hours"
   ]
  },
  {
   "cell_type": "code",
   "execution_count": 21,
   "metadata": {},
   "outputs": [
    {
     "ename": "TypeError",
     "evalue": "degree_hours() missing 1 required positional argument: 'f'",
     "output_type": "error",
     "traceback": [
      "\u001b[0;31m---------------------------------------------------------------------------\u001b[0m",
      "\u001b[0;31mTypeError\u001b[0m                                 Traceback (most recent call last)",
      "\u001b[0;32m<ipython-input-21-1c8f12ef0cd0>\u001b[0m in \u001b[0;36m<module>\u001b[0;34m\u001b[0m\n\u001b[0;32m----> 1\u001b[0;31m \u001b[0mdegree_hours\u001b[0m\u001b[0;34m(\u001b[0m\u001b[0;36m70\u001b[0m\u001b[0;34m,\u001b[0m \u001b[0;36m78\u001b[0m\u001b[0;34m,\u001b[0m \u001b[0mDBC\u001b[0m\u001b[0;34m)\u001b[0m\u001b[0;34m\u001b[0m\u001b[0;34m\u001b[0m\u001b[0m\n\u001b[0m",
      "\u001b[0;31mTypeError\u001b[0m: degree_hours() missing 1 required positional argument: 'f'"
     ]
    }
   ],
   "source": [
    "degree_hours(70, 78, DBC)"
   ]
  },
  {
   "cell_type": "markdown",
   "metadata": {},
   "source": [
    "## No.3: Temperature Mean Value"
   ]
  },
  {
   "cell_type": "code",
   "execution_count": 13,
   "metadata": {},
   "outputs": [],
   "source": [
    "from zone_discomfort_evaluation.temp_mean import temp_mean"
   ]
  },
  {
   "cell_type": "code",
   "execution_count": null,
   "metadata": {
    "tags": []
   },
   "outputs": [],
   "source": [
    "temp_mean(9, 17, DBC)"
   ]
  },
  {
   "cell_type": "code",
   "execution_count": 5,
   "metadata": {},
   "outputs": [
    {
     "data": {
      "text/html": [
       "<div>\n",
       "<style scoped>\n",
       "    .dataframe tbody tr th:only-of-type {\n",
       "        vertical-align: middle;\n",
       "    }\n",
       "\n",
       "    .dataframe tbody tr th {\n",
       "        vertical-align: top;\n",
       "    }\n",
       "\n",
       "    .dataframe thead th {\n",
       "        text-align: right;\n",
       "    }\n",
       "</style>\n",
       "<table border=\"1\" class=\"dataframe\">\n",
       "  <thead>\n",
       "    <tr style=\"text-align: right;\">\n",
       "      <th></th>\n",
       "      <th>zone name</th>\n",
       "      <th>temperature mean</th>\n",
       "    </tr>\n",
       "  </thead>\n",
       "  <tbody>\n",
       "    <tr>\n",
       "      <th>2</th>\n",
       "      <td>/881ae9c7-1415-4f07-ae11-e046ad1ba597.csv</td>\n",
       "      <td>72.291811</td>\n",
       "    </tr>\n",
       "    <tr>\n",
       "      <th>0</th>\n",
       "      <td>/17e9e1d2-5e18-4a7d-960f-e44ee6f83a53.csv</td>\n",
       "      <td>72.065779</td>\n",
       "    </tr>\n",
       "    <tr>\n",
       "      <th>1</th>\n",
       "      <td>/5c8d94d7-ca6a-4823-9c96-5c6f1cceba13.csv</td>\n",
       "      <td>71.863046</td>\n",
       "    </tr>\n",
       "  </tbody>\n",
       "</table>\n",
       "</div>"
      ],
      "text/plain": [
       "                                   zone name  temperature mean\n",
       "2  /881ae9c7-1415-4f07-ae11-e046ad1ba597.csv         72.291811\n",
       "0  /17e9e1d2-5e18-4a7d-960f-e44ee6f83a53.csv         72.065779\n",
       "1  /5c8d94d7-ca6a-4823-9c96-5c6f1cceba13.csv         71.863046"
      ]
     },
     "execution_count": 5,
     "metadata": {},
     "output_type": "execute_result"
    }
   ],
   "source": [
    "temp_mean(9, 17, SMC)"
   ]
  },
  {
   "cell_type": "code",
   "execution_count": 6,
   "metadata": {},
   "outputs": [
    {
     "data": {
      "text/html": [
       "<div>\n",
       "<style scoped>\n",
       "    .dataframe tbody tr th:only-of-type {\n",
       "        vertical-align: middle;\n",
       "    }\n",
       "\n",
       "    .dataframe tbody tr th {\n",
       "        vertical-align: top;\n",
       "    }\n",
       "\n",
       "    .dataframe thead th {\n",
       "        text-align: right;\n",
       "    }\n",
       "</style>\n",
       "<table border=\"1\" class=\"dataframe\">\n",
       "  <thead>\n",
       "    <tr style=\"text-align: right;\">\n",
       "      <th></th>\n",
       "      <th>zone name</th>\n",
       "      <th>temperature mean</th>\n",
       "    </tr>\n",
       "  </thead>\n",
       "  <tbody>\n",
       "    <tr>\n",
       "      <th>2</th>\n",
       "      <td>/ec_01_l2wc_rczn2_zonetemp.csv</td>\n",
       "      <td>74.207917</td>\n",
       "    </tr>\n",
       "    <tr>\n",
       "      <th>0</th>\n",
       "      <td>/ec_01_l1ec_rczn4_zonetemp.csv</td>\n",
       "      <td>72.675004</td>\n",
       "    </tr>\n",
       "    <tr>\n",
       "      <th>1</th>\n",
       "      <td>/ec_01_l2es_rczn2_zonetemp.csv</td>\n",
       "      <td>71.210184</td>\n",
       "    </tr>\n",
       "  </tbody>\n",
       "</table>\n",
       "</div>"
      ],
      "text/plain": [
       "                        zone name  temperature mean\n",
       "2  /ec_01_l2wc_rczn2_zonetemp.csv         74.207917\n",
       "0  /ec_01_l1ec_rczn4_zonetemp.csv         72.675004\n",
       "1  /ec_01_l2es_rczn2_zonetemp.csv         71.210184"
      ]
     },
     "execution_count": 6,
     "metadata": {},
     "output_type": "execute_result"
    }
   ],
   "source": [
    "temp_mean(9, 17, SMUD)"
   ]
  },
  {
   "cell_type": "markdown",
   "metadata": {},
   "source": [
    "## No.4: Temperature Variance "
   ]
  },
  {
   "cell_type": "code",
   "execution_count": 3,
   "metadata": {},
   "outputs": [],
   "source": [
    "from zone_discomfort_evaluation.temp_var import *"
   ]
  },
  {
   "cell_type": "code",
   "execution_count": 4,
   "metadata": {},
   "outputs": [
    {
     "data": {
      "text/html": [
       "<div>\n",
       "<style scoped>\n",
       "    .dataframe tbody tr th:only-of-type {\n",
       "        vertical-align: middle;\n",
       "    }\n",
       "\n",
       "    .dataframe tbody tr th {\n",
       "        vertical-align: top;\n",
       "    }\n",
       "\n",
       "    .dataframe thead th {\n",
       "        text-align: right;\n",
       "    }\n",
       "</style>\n",
       "<table border=\"1\" class=\"dataframe\">\n",
       "  <thead>\n",
       "    <tr style=\"text-align: right;\">\n",
       "      <th></th>\n",
       "      <th>zone name</th>\n",
       "      <th>temperature vairance</th>\n",
       "    </tr>\n",
       "  </thead>\n",
       "  <tbody>\n",
       "    <tr>\n",
       "      <th>2</th>\n",
       "      <td>/Field Bus1.BrowerRadiant4East.ZN2-T.csv</td>\n",
       "      <td>32.218171</td>\n",
       "    </tr>\n",
       "    <tr>\n",
       "      <th>1</th>\n",
       "      <td>/Field Bus1.BrowerRadiant3West.ZN1-T.csv</td>\n",
       "      <td>25.258746</td>\n",
       "    </tr>\n",
       "    <tr>\n",
       "      <th>0</th>\n",
       "      <td>/Field Bus1.BrowerRadiant2East.ZN2-T.csv</td>\n",
       "      <td>18.476287</td>\n",
       "    </tr>\n",
       "  </tbody>\n",
       "</table>\n",
       "</div>"
      ],
      "text/plain": [
       "                                  zone name  temperature vairance\n",
       "2  /Field Bus1.BrowerRadiant4East.ZN2-T.csv             32.218171\n",
       "1  /Field Bus1.BrowerRadiant3West.ZN1-T.csv             25.258746\n",
       "0  /Field Bus1.BrowerRadiant2East.ZN2-T.csv             18.476287"
      ]
     },
     "execution_count": 4,
     "metadata": {},
     "output_type": "execute_result"
    }
   ],
   "source": [
    "temp_var(9, 17, DBC)"
   ]
  },
  {
   "cell_type": "code",
   "execution_count": 11,
   "metadata": {},
   "outputs": [
    {
     "data": {
      "text/html": [
       "<div>\n",
       "<style scoped>\n",
       "    .dataframe tbody tr th:only-of-type {\n",
       "        vertical-align: middle;\n",
       "    }\n",
       "\n",
       "    .dataframe tbody tr th {\n",
       "        vertical-align: top;\n",
       "    }\n",
       "\n",
       "    .dataframe thead th {\n",
       "        text-align: right;\n",
       "    }\n",
       "</style>\n",
       "<table border=\"1\" class=\"dataframe\">\n",
       "  <thead>\n",
       "    <tr style=\"text-align: right;\">\n",
       "      <th></th>\n",
       "      <th>zone name</th>\n",
       "      <th>temperature vairance</th>\n",
       "    </tr>\n",
       "  </thead>\n",
       "  <tbody>\n",
       "    <tr>\n",
       "      <th>2</th>\n",
       "      <td>/881ae9c7-1415-4f07-ae11-e046ad1ba597.csv</td>\n",
       "      <td>82.984909</td>\n",
       "    </tr>\n",
       "    <tr>\n",
       "      <th>1</th>\n",
       "      <td>/5c8d94d7-ca6a-4823-9c96-5c6f1cceba13.csv</td>\n",
       "      <td>20.004948</td>\n",
       "    </tr>\n",
       "    <tr>\n",
       "      <th>0</th>\n",
       "      <td>/17e9e1d2-5e18-4a7d-960f-e44ee6f83a53.csv</td>\n",
       "      <td>1.448755</td>\n",
       "    </tr>\n",
       "  </tbody>\n",
       "</table>\n",
       "</div>"
      ],
      "text/plain": [
       "                                   zone name  temperature vairance\n",
       "2  /881ae9c7-1415-4f07-ae11-e046ad1ba597.csv             82.984909\n",
       "1  /5c8d94d7-ca6a-4823-9c96-5c6f1cceba13.csv             20.004948\n",
       "0  /17e9e1d2-5e18-4a7d-960f-e44ee6f83a53.csv              1.448755"
      ]
     },
     "execution_count": 11,
     "metadata": {},
     "output_type": "execute_result"
    }
   ],
   "source": [
    "# ？check\n",
    "temp_var(9, 17, SMC)"
   ]
  },
  {
   "cell_type": "code",
   "execution_count": 13,
   "metadata": {},
   "outputs": [
    {
     "data": {
      "text/html": [
       "<div>\n",
       "<style scoped>\n",
       "    .dataframe tbody tr th:only-of-type {\n",
       "        vertical-align: middle;\n",
       "    }\n",
       "\n",
       "    .dataframe tbody tr th {\n",
       "        vertical-align: top;\n",
       "    }\n",
       "\n",
       "    .dataframe thead th {\n",
       "        text-align: right;\n",
       "    }\n",
       "</style>\n",
       "<table border=\"1\" class=\"dataframe\">\n",
       "  <thead>\n",
       "    <tr style=\"text-align: right;\">\n",
       "      <th></th>\n",
       "      <th>zone name</th>\n",
       "      <th>temperature vairance</th>\n",
       "    </tr>\n",
       "  </thead>\n",
       "  <tbody>\n",
       "    <tr>\n",
       "      <th>1</th>\n",
       "      <td>/ec_01_l2es_rczn2_zonetemp.csv</td>\n",
       "      <td>1.092029</td>\n",
       "    </tr>\n",
       "    <tr>\n",
       "      <th>0</th>\n",
       "      <td>/ec_01_l1ec_rczn4_zonetemp.csv</td>\n",
       "      <td>0.564315</td>\n",
       "    </tr>\n",
       "    <tr>\n",
       "      <th>2</th>\n",
       "      <td>/ec_01_l2wc_rczn2_zonetemp.csv</td>\n",
       "      <td>0.559750</td>\n",
       "    </tr>\n",
       "  </tbody>\n",
       "</table>\n",
       "</div>"
      ],
      "text/plain": [
       "                        zone name  temperature vairance\n",
       "1  /ec_01_l2es_rczn2_zonetemp.csv              1.092029\n",
       "0  /ec_01_l1ec_rczn4_zonetemp.csv              0.564315\n",
       "2  /ec_01_l2wc_rczn2_zonetemp.csv              0.559750"
      ]
     },
     "execution_count": 13,
     "metadata": {},
     "output_type": "execute_result"
    }
   ],
   "source": [
    "temp_var(9, 17, SMUD)"
   ]
  },
  {
   "cell_type": "markdown",
   "metadata": {},
   "source": [
    "## No.5: Percentage of occupied days that daily temperature range are out of the threshold"
   ]
  },
  {
   "cell_type": "code",
   "execution_count": 1,
   "metadata": {},
   "outputs": [],
   "source": [
    "DBC = '/Users/ruijisun/Box/Mortar zone and setpoint temperatures/20210727 Zone Temperature Data/DBC'\n",
    "SMC = '/Users/ruijisun/Box/Mortar zone and setpoint temperatures/20210727 Zone Temperature Data/SMC'\n",
    "SMUD = '/Users/ruijisun/Box/Mortar zone and setpoint temperatures/20210727 Zone Temperature Data/SMUD'"
   ]
  },
  {
   "cell_type": "code",
   "execution_count": 5,
   "metadata": {},
   "outputs": [],
   "source": [
    "from zone_discomfort_evaluation.daily_range_outlier import *"
   ]
  },
  {
   "cell_type": "markdown",
   "metadata": {},
   "source": [
    "which weekday has most out of threshold daily tempearture range <br>\n",
    "y: number of days that out of the threshold <br>\n",
    "x: monday to friday"
   ]
  },
  {
   "cell_type": "code",
   "execution_count": 6,
   "metadata": {},
   "outputs": [
    {
     "data": {
      "text/html": [
       "<div>\n",
       "<style scoped>\n",
       "    .dataframe tbody tr th:only-of-type {\n",
       "        vertical-align: middle;\n",
       "    }\n",
       "\n",
       "    .dataframe tbody tr th {\n",
       "        vertical-align: top;\n",
       "    }\n",
       "\n",
       "    .dataframe thead th {\n",
       "        text-align: right;\n",
       "    }\n",
       "</style>\n",
       "<table border=\"1\" class=\"dataframe\">\n",
       "  <thead>\n",
       "    <tr style=\"text-align: right;\">\n",
       "      <th></th>\n",
       "      <th>zone name</th>\n",
       "      <th>0.8percentile threshold</th>\n",
       "      <th>outlier percentage</th>\n",
       "    </tr>\n",
       "  </thead>\n",
       "  <tbody>\n",
       "    <tr>\n",
       "      <th>1</th>\n",
       "      <td>/Field Bus1.BrowerRadiant3West.ZN1-T.csv</td>\n",
       "      <td>3.039307</td>\n",
       "      <td>0.001935</td>\n",
       "    </tr>\n",
       "    <tr>\n",
       "      <th>0</th>\n",
       "      <td>/Field Bus1.BrowerRadiant2East.ZN2-T.csv</td>\n",
       "      <td>3.032455</td>\n",
       "      <td>0.001330</td>\n",
       "    </tr>\n",
       "    <tr>\n",
       "      <th>2</th>\n",
       "      <td>/Field Bus1.BrowerRadiant4East.ZN2-T.csv</td>\n",
       "      <td>3.867485</td>\n",
       "      <td>0.001088</td>\n",
       "    </tr>\n",
       "  </tbody>\n",
       "</table>\n",
       "</div>"
      ],
      "text/plain": [
       "                                  zone name  0.8percentile threshold  \\\n",
       "1  /Field Bus1.BrowerRadiant3West.ZN1-T.csv                 3.039307   \n",
       "0  /Field Bus1.BrowerRadiant2East.ZN2-T.csv                 3.032455   \n",
       "2  /Field Bus1.BrowerRadiant4East.ZN2-T.csv                 3.867485   \n",
       "\n",
       "   outlier percentage  \n",
       "1            0.001935  \n",
       "0            0.001330  \n",
       "2            0.001088  "
      ]
     },
     "execution_count": 6,
     "metadata": {},
     "output_type": "execute_result"
    },
    {
     "data": {
      "image/png": "[encoded data removed]",
      "text/plain": [
       "<Figure size 432x288 with 1 Axes>"
      ]
     },
     "metadata": {
      "needs_background": "light"
     },
     "output_type": "display_data"
    },
    {
     "data": {
      "image/png": "[encoded data removed]",
      "text/plain": [
       "<Figure size 432x288 with 1 Axes>"
      ]
     },
     "metadata": {
      "needs_background": "light"
     },
     "output_type": "display_data"
    },
    {
     "data": {
      "image/png": "[encoded data removed]",
      "text/plain": [
       "<Figure size 432x288 with 1 Axes>"
      ]
     },
     "metadata": {
      "needs_background": "light"
     },
     "output_type": "display_data"
    }
   ],
   "source": [
    "e = '/Users/ruijisun/Desktop'\n",
    "daily_range_outlier(9, 17, 0.8, DBC, e)"
   ]
  },
  {
   "cell_type": "code",
   "execution_count": 6,
   "metadata": {},
   "outputs": [
    {
     "data": {
      "text/html": [
       "<div>\n",
       "<style scoped>\n",
       "    .dataframe tbody tr th:only-of-type {\n",
       "        vertical-align: middle;\n",
       "    }\n",
       "\n",
       "    .dataframe tbody tr th {\n",
       "        vertical-align: top;\n",
       "    }\n",
       "\n",
       "    .dataframe thead th {\n",
       "        text-align: right;\n",
       "    }\n",
       "</style>\n",
       "<table border=\"1\" class=\"dataframe\">\n",
       "  <thead>\n",
       "    <tr style=\"text-align: right;\">\n",
       "      <th></th>\n",
       "      <th>zone name</th>\n",
       "      <th>0.8percentile threshold</th>\n",
       "      <th>outlier percentage</th>\n",
       "    </tr>\n",
       "  </thead>\n",
       "  <tbody>\n",
       "    <tr>\n",
       "      <th>0</th>\n",
       "      <td>/17e9e1d2-5e18-4a7d-960f-e44ee6f83a53.csv</td>\n",
       "      <td>3.186406</td>\n",
       "      <td>0.000383</td>\n",
       "    </tr>\n",
       "    <tr>\n",
       "      <th>2</th>\n",
       "      <td>/881ae9c7-1415-4f07-ae11-e046ad1ba597.csv</td>\n",
       "      <td>6.430249</td>\n",
       "      <td>0.000097</td>\n",
       "    </tr>\n",
       "    <tr>\n",
       "      <th>1</th>\n",
       "      <td>/5c8d94d7-ca6a-4823-9c96-5c6f1cceba13.csv</td>\n",
       "      <td>5.096318</td>\n",
       "      <td>0.000033</td>\n",
       "    </tr>\n",
       "  </tbody>\n",
       "</table>\n",
       "</div>"
      ],
      "text/plain": [
       "                                   zone name  0.8percentile threshold  \\\n",
       "0  /17e9e1d2-5e18-4a7d-960f-e44ee6f83a53.csv                 3.186406   \n",
       "2  /881ae9c7-1415-4f07-ae11-e046ad1ba597.csv                 6.430249   \n",
       "1  /5c8d94d7-ca6a-4823-9c96-5c6f1cceba13.csv                 5.096318   \n",
       "\n",
       "   outlier percentage  \n",
       "0            0.000383  \n",
       "2            0.000097  \n",
       "1            0.000033  "
      ]
     },
     "execution_count": 6,
     "metadata": {},
     "output_type": "execute_result"
    },
    {
     "data": {
      "image/png": "[encoded data removed]",
      "text/plain": [
       "<Figure size 432x288 with 1 Axes>"
      ]
     },
     "metadata": {
      "needs_background": "light"
     },
     "output_type": "display_data"
    },
    {
     "data": {
      "image/png": "[encoded data removed]",
      "text/plain": [
       "<Figure size 432x288 with 1 Axes>"
      ]
     },
     "metadata": {
      "needs_background": "light"
     },
     "output_type": "display_data"
    },
    {
     "data": {
      "image/png": "[encoded data removed]",
      "text/plain": [
       "<Figure size 432x288 with 1 Axes>"
      ]
     },
     "metadata": {
      "needs_background": "light"
     },
     "output_type": "display_data"
    }
   ],
   "source": [
    "e = '/Users/ruijisun/Desktop'\n",
    "daily_range_outlier(9, 17, 0.8, SMC, e)"
   ]
  },
  {
   "cell_type": "code",
   "execution_count": 7,
   "metadata": {},
   "outputs": [
    {
     "data": {
      "text/html": [
       "<div>\n",
       "<style scoped>\n",
       "    .dataframe tbody tr th:only-of-type {\n",
       "        vertical-align: middle;\n",
       "    }\n",
       "\n",
       "    .dataframe tbody tr th {\n",
       "        vertical-align: top;\n",
       "    }\n",
       "\n",
       "    .dataframe thead th {\n",
       "        text-align: right;\n",
       "    }\n",
       "</style>\n",
       "<table border=\"1\" class=\"dataframe\">\n",
       "  <thead>\n",
       "    <tr style=\"text-align: right;\">\n",
       "      <th></th>\n",
       "      <th>zone name</th>\n",
       "      <th>0.8percentile threshold</th>\n",
       "      <th>outlier percentage</th>\n",
       "    </tr>\n",
       "  </thead>\n",
       "  <tbody>\n",
       "    <tr>\n",
       "      <th>1</th>\n",
       "      <td>/ec_01_l2es_rczn2_zonetemp.csv</td>\n",
       "      <td>1.33</td>\n",
       "      <td>0.001444</td>\n",
       "    </tr>\n",
       "    <tr>\n",
       "      <th>2</th>\n",
       "      <td>/ec_01_l2wc_rczn2_zonetemp.csv</td>\n",
       "      <td>1.97</td>\n",
       "      <td>0.000358</td>\n",
       "    </tr>\n",
       "    <tr>\n",
       "      <th>0</th>\n",
       "      <td>/ec_01_l1ec_rczn4_zonetemp.csv</td>\n",
       "      <td>1.69</td>\n",
       "      <td>0.000000</td>\n",
       "    </tr>\n",
       "  </tbody>\n",
       "</table>\n",
       "</div>"
      ],
      "text/plain": [
       "                        zone name  0.8percentile threshold  outlier percentage\n",
       "1  /ec_01_l2es_rczn2_zonetemp.csv                     1.33            0.001444\n",
       "2  /ec_01_l2wc_rczn2_zonetemp.csv                     1.97            0.000358\n",
       "0  /ec_01_l1ec_rczn4_zonetemp.csv                     1.69            0.000000"
      ]
     },
     "execution_count": 7,
     "metadata": {},
     "output_type": "execute_result"
    },
    {
     "data": {
      "image/png": "[encoded data removed]",
      "text/plain": [
       "<Figure size 432x288 with 1 Axes>"
      ]
     },
     "metadata": {
      "needs_background": "light"
     },
     "output_type": "display_data"
    },
    {
     "data": {
      "image/png": "[encoded data removed]",
      "text/plain": [
       "<Figure size 432x288 with 1 Axes>"
      ]
     },
     "metadata": {
      "needs_background": "light"
     },
     "output_type": "display_data"
    },
    {
     "data": {
      "image/png": "[encoded data removed]",
      "text/plain": [
       "<Figure size 432x288 with 1 Axes>"
      ]
     },
     "metadata": {
      "needs_background": "light"
     },
     "output_type": "display_data"
    }
   ],
   "source": [
    "e = '/Users/ruijisun/Desktop'\n",
    "daily_range_outlier(9, 17, 0.8, SMUD, e)"
   ]
  },
  {
   "cell_type": "code",
   "execution_count": null,
   "metadata": {},
   "outputs": [],
   "source": []
  },
  {
   "cell_type": "code",
   "execution_count": null,
   "metadata": {},
   "outputs": [],
   "source": []
  },
  {
   "cell_type": "code",
   "execution_count": null,
   "metadata": {},
   "outputs": [],
   "source": []
  },
  {
   "cell_type": "markdown",
   "metadata": {},
   "source": [
    "# Script"
   ]
  },
  {
   "cell_type": "code",
   "execution_count": 116,
   "metadata": {},
   "outputs": [],
   "source": [
    "import pandas as pd\n",
    "import glob\n",
    "a = 9\n",
    "b = 17\n",
    "l = 72 \n",
    "u = 81\n",
    "p = 0.8\n",
    "i = '/Users/ruijisun/Box/Mortar zone and setpoint temperatures/20210727 Zone Temperature Data/DBC/Field Bus1.BrowerRadiant2East.ZN2-T.csv'\n",
    "e = '/Users/ruijisun/Desktop/'"
   ]
  },
  {
   "cell_type": "code",
   "execution_count": 117,
   "metadata": {},
   "outputs": [],
   "source": [
    "df = pd.read_csv(i)"
   ]
  },
  {
   "cell_type": "code",
   "execution_count": 118,
   "metadata": {},
   "outputs": [
    {
     "data": {
      "text/html": [
       "<div>\n",
       "<style scoped>\n",
       "    .dataframe tbody tr th:only-of-type {\n",
       "        vertical-align: middle;\n",
       "    }\n",
       "\n",
       "    .dataframe tbody tr th {\n",
       "        vertical-align: top;\n",
       "    }\n",
       "\n",
       "    .dataframe thead th {\n",
       "        text-align: right;\n",
       "    }\n",
       "</style>\n",
       "<table border=\"1\" class=\"dataframe\">\n",
       "  <thead>\n",
       "    <tr style=\"text-align: right;\">\n",
       "      <th></th>\n",
       "      <th>datetime</th>\n",
       "      <th>/FS4/NAE00806603BECA/3001087/NAE00806603BECA/Field Bus1.BrowerRadiant2East.ZN2-T</th>\n",
       "    </tr>\n",
       "  </thead>\n",
       "  <tbody>\n",
       "    <tr>\n",
       "      <th>0</th>\n",
       "      <td>2020-12-01 10:05:00</td>\n",
       "      <td>70.299370</td>\n",
       "    </tr>\n",
       "    <tr>\n",
       "      <th>1</th>\n",
       "      <td>2020-12-01 10:10:00</td>\n",
       "      <td>70.299370</td>\n",
       "    </tr>\n",
       "    <tr>\n",
       "      <th>2</th>\n",
       "      <td>2020-12-01 10:15:00</td>\n",
       "      <td>70.299370</td>\n",
       "    </tr>\n",
       "    <tr>\n",
       "      <th>3</th>\n",
       "      <td>2020-12-01 10:20:00</td>\n",
       "      <td>70.299370</td>\n",
       "    </tr>\n",
       "    <tr>\n",
       "      <th>4</th>\n",
       "      <td>2020-12-01 10:25:00</td>\n",
       "      <td>70.502136</td>\n",
       "    </tr>\n",
       "    <tr>\n",
       "      <th>...</th>\n",
       "      <td>...</td>\n",
       "      <td>...</td>\n",
       "    </tr>\n",
       "    <tr>\n",
       "      <th>34556</th>\n",
       "      <td>2021-03-31 10:45:00</td>\n",
       "      <td>67.608704</td>\n",
       "    </tr>\n",
       "    <tr>\n",
       "      <th>34557</th>\n",
       "      <td>2021-03-31 10:50:00</td>\n",
       "      <td>67.608704</td>\n",
       "    </tr>\n",
       "    <tr>\n",
       "      <th>34558</th>\n",
       "      <td>2021-03-31 10:55:00</td>\n",
       "      <td>67.820107</td>\n",
       "    </tr>\n",
       "    <tr>\n",
       "      <th>34559</th>\n",
       "      <td>2021-03-31 11:00:00</td>\n",
       "      <td>67.820107</td>\n",
       "    </tr>\n",
       "    <tr>\n",
       "      <th>34560</th>\n",
       "      <td>2021-03-31 11:05:00</td>\n",
       "      <td>67.820107</td>\n",
       "    </tr>\n",
       "  </tbody>\n",
       "</table>\n",
       "<p>34561 rows × 2 columns</p>\n",
       "</div>"
      ],
      "text/plain": [
       "                  datetime  \\\n",
       "0      2020-12-01 10:05:00   \n",
       "1      2020-12-01 10:10:00   \n",
       "2      2020-12-01 10:15:00   \n",
       "3      2020-12-01 10:20:00   \n",
       "4      2020-12-01 10:25:00   \n",
       "...                    ...   \n",
       "34556  2021-03-31 10:45:00   \n",
       "34557  2021-03-31 10:50:00   \n",
       "34558  2021-03-31 10:55:00   \n",
       "34559  2021-03-31 11:00:00   \n",
       "34560  2021-03-31 11:05:00   \n",
       "\n",
       "       /FS4/NAE00806603BECA/3001087/NAE00806603BECA/Field Bus1.BrowerRadiant2East.ZN2-T  \n",
       "0                                              70.299370                                 \n",
       "1                                              70.299370                                 \n",
       "2                                              70.299370                                 \n",
       "3                                              70.299370                                 \n",
       "4                                              70.502136                                 \n",
       "...                                                  ...                                 \n",
       "34556                                          67.608704                                 \n",
       "34557                                          67.608704                                 \n",
       "34558                                          67.820107                                 \n",
       "34559                                          67.820107                                 \n",
       "34560                                          67.820107                                 \n",
       "\n",
       "[34561 rows x 2 columns]"
      ]
     },
     "execution_count": 118,
     "metadata": {},
     "output_type": "execute_result"
    }
   ],
   "source": [
    "df"
   ]
  },
  {
   "cell_type": "code",
   "execution_count": 119,
   "metadata": {},
   "outputs": [],
   "source": [
    "df.columns = ['datetime', 'temp']"
   ]
  },
  {
   "cell_type": "code",
   "execution_count": 191,
   "metadata": {},
   "outputs": [],
   "source": [
    "# get the date from the time for groupby function later on\n",
    "df['date'] = pd.to_datetime(df.datetime).dt.date\n",
    "df['hour'] = pd.to_datetime(df.datetime).dt.hour\n",
    "df['weekdays'] = pd.to_datetime(df.datetime).dt.dayofweek\n",
    "# create a new dataframe for the specified office hours and weekdays\n",
    "df_occ = df[(df['hour'] >= a) & (df['hour'] < b) &\n",
    "            (df['weekdays'] >= 0) & (df['weekdays'] <= 4)]\n",
    "# calculate daily temperature range by max minus min\n",
    "df_max = df_occ.groupby(['date']).max()\n",
    "df_min = df_occ.groupby(['date']).min()\n",
    "# daily range dataframe"
   ]
  },
  {
   "cell_type": "code",
   "execution_count": 205,
   "metadata": {
    "collapsed": true,
    "jupyter": {
     "outputs_hidden": true
    },
    "tags": []
   },
   "outputs": [
    {
     "data": {
      "text/plain": [
       "<AxesSubplot:xlabel='hour', ylabel='temp'>"
      ]
     },
     "execution_count": 205,
     "metadata": {},
     "output_type": "execute_result"
    },
    {
     "data": {
      "image/png": "[encoded data removed]",
      "text/plain": [
       "<Figure size 1440x720 with 1 Axes>"
      ]
     },
     "metadata": {
      "needs_background": "light"
     },
     "output_type": "display_data"
    }
   ],
   "source": [
    "# df.plot.scatter(x='hour', xlim=(8,18), y='temp', figsize=(20, 10))"
   ]
  },
  {
   "cell_type": "code",
   "execution_count": 193,
   "metadata": {},
   "outputs": [
    {
     "data": {
      "text/html": [
       "<div>\n",
       "<style scoped>\n",
       "    .dataframe tbody tr th:only-of-type {\n",
       "        vertical-align: middle;\n",
       "    }\n",
       "\n",
       "    .dataframe tbody tr th {\n",
       "        vertical-align: top;\n",
       "    }\n",
       "\n",
       "    .dataframe thead th {\n",
       "        text-align: right;\n",
       "    }\n",
       "</style>\n",
       "<table border=\"1\" class=\"dataframe\">\n",
       "  <thead>\n",
       "    <tr style=\"text-align: right;\">\n",
       "      <th></th>\n",
       "      <th>datetime</th>\n",
       "      <th>temp</th>\n",
       "      <th>hour</th>\n",
       "      <th>weekdays</th>\n",
       "    </tr>\n",
       "    <tr>\n",
       "      <th>date</th>\n",
       "      <th></th>\n",
       "      <th></th>\n",
       "      <th></th>\n",
       "      <th></th>\n",
       "    </tr>\n",
       "  </thead>\n",
       "  <tbody>\n",
       "    <tr>\n",
       "      <th>2020-12-01</th>\n",
       "      <td>2020-12-01 16:55:00</td>\n",
       "      <td>72.111481</td>\n",
       "      <td>16</td>\n",
       "      <td>1</td>\n",
       "    </tr>\n",
       "    <tr>\n",
       "      <th>2020-12-02</th>\n",
       "      <td>2020-12-02 16:55:00</td>\n",
       "      <td>72.752472</td>\n",
       "      <td>16</td>\n",
       "      <td>2</td>\n",
       "    </tr>\n",
       "    <tr>\n",
       "      <th>2020-12-03</th>\n",
       "      <td>2020-12-03 16:55:00</td>\n",
       "      <td>73.410248</td>\n",
       "      <td>16</td>\n",
       "      <td>3</td>\n",
       "    </tr>\n",
       "    <tr>\n",
       "      <th>2020-12-04</th>\n",
       "      <td>2020-12-04 16:55:00</td>\n",
       "      <td>73.429008</td>\n",
       "      <td>16</td>\n",
       "      <td>4</td>\n",
       "    </tr>\n",
       "    <tr>\n",
       "      <th>2020-12-07</th>\n",
       "      <td>2020-12-07 16:55:00</td>\n",
       "      <td>73.062325</td>\n",
       "      <td>16</td>\n",
       "      <td>0</td>\n",
       "    </tr>\n",
       "    <tr>\n",
       "      <th>...</th>\n",
       "      <td>...</td>\n",
       "      <td>...</td>\n",
       "      <td>...</td>\n",
       "      <td>...</td>\n",
       "    </tr>\n",
       "    <tr>\n",
       "      <th>2021-03-25</th>\n",
       "      <td>2021-03-25 16:55:00</td>\n",
       "      <td>64.805283</td>\n",
       "      <td>16</td>\n",
       "      <td>3</td>\n",
       "    </tr>\n",
       "    <tr>\n",
       "      <th>2021-03-26</th>\n",
       "      <td>2021-03-26 16:55:00</td>\n",
       "      <td>65.427628</td>\n",
       "      <td>16</td>\n",
       "      <td>4</td>\n",
       "    </tr>\n",
       "    <tr>\n",
       "      <th>2021-03-29</th>\n",
       "      <td>2021-03-29 16:55:00</td>\n",
       "      <td>66.516159</td>\n",
       "      <td>16</td>\n",
       "      <td>0</td>\n",
       "    </tr>\n",
       "    <tr>\n",
       "      <th>2021-03-30</th>\n",
       "      <td>2021-03-30 16:55:00</td>\n",
       "      <td>67.368950</td>\n",
       "      <td>16</td>\n",
       "      <td>1</td>\n",
       "    </tr>\n",
       "    <tr>\n",
       "      <th>2021-03-31</th>\n",
       "      <td>2021-03-31 11:05:00</td>\n",
       "      <td>67.820107</td>\n",
       "      <td>11</td>\n",
       "      <td>2</td>\n",
       "    </tr>\n",
       "  </tbody>\n",
       "</table>\n",
       "<p>87 rows × 4 columns</p>\n",
       "</div>"
      ],
      "text/plain": [
       "                       datetime       temp  hour  weekdays\n",
       "date                                                      \n",
       "2020-12-01  2020-12-01 16:55:00  72.111481    16         1\n",
       "2020-12-02  2020-12-02 16:55:00  72.752472    16         2\n",
       "2020-12-03  2020-12-03 16:55:00  73.410248    16         3\n",
       "2020-12-04  2020-12-04 16:55:00  73.429008    16         4\n",
       "2020-12-07  2020-12-07 16:55:00  73.062325    16         0\n",
       "...                         ...        ...   ...       ...\n",
       "2021-03-25  2021-03-25 16:55:00  64.805283    16         3\n",
       "2021-03-26  2021-03-26 16:55:00  65.427628    16         4\n",
       "2021-03-29  2021-03-29 16:55:00  66.516159    16         0\n",
       "2021-03-30  2021-03-30 16:55:00  67.368950    16         1\n",
       "2021-03-31  2021-03-31 11:05:00  67.820107    11         2\n",
       "\n",
       "[87 rows x 4 columns]"
      ]
     },
     "execution_count": 193,
     "metadata": {},
     "output_type": "execute_result"
    }
   ],
   "source": [
    "df_max"
   ]
  },
  {
   "cell_type": "code",
   "execution_count": 131,
   "metadata": {},
   "outputs": [],
   "source": [
    "df_max['range'] = df_max.temp - df_min.temp"
   ]
  },
  {
   "cell_type": "code",
   "execution_count": 132,
   "metadata": {},
   "outputs": [
    {
     "data": {
      "text/html": [
       "<div>\n",
       "<style scoped>\n",
       "    .dataframe tbody tr th:only-of-type {\n",
       "        vertical-align: middle;\n",
       "    }\n",
       "\n",
       "    .dataframe tbody tr th {\n",
       "        vertical-align: top;\n",
       "    }\n",
       "\n",
       "    .dataframe thead th {\n",
       "        text-align: right;\n",
       "    }\n",
       "</style>\n",
       "<table border=\"1\" class=\"dataframe\">\n",
       "  <thead>\n",
       "    <tr style=\"text-align: right;\">\n",
       "      <th></th>\n",
       "      <th>datetime</th>\n",
       "      <th>temp</th>\n",
       "      <th>hour</th>\n",
       "      <th>weekdays</th>\n",
       "      <th>range</th>\n",
       "    </tr>\n",
       "    <tr>\n",
       "      <th>date</th>\n",
       "      <th></th>\n",
       "      <th></th>\n",
       "      <th></th>\n",
       "      <th></th>\n",
       "      <th></th>\n",
       "    </tr>\n",
       "  </thead>\n",
       "  <tbody>\n",
       "    <tr>\n",
       "      <th>2020-12-01</th>\n",
       "      <td>2020-12-01 16:55:00</td>\n",
       "      <td>72.111481</td>\n",
       "      <td>16</td>\n",
       "      <td>1</td>\n",
       "      <td>1.812111</td>\n",
       "    </tr>\n",
       "    <tr>\n",
       "      <th>2020-12-02</th>\n",
       "      <td>2020-12-02 16:55:00</td>\n",
       "      <td>72.752472</td>\n",
       "      <td>16</td>\n",
       "      <td>2</td>\n",
       "      <td>2.847229</td>\n",
       "    </tr>\n",
       "    <tr>\n",
       "      <th>2020-12-03</th>\n",
       "      <td>2020-12-03 16:55:00</td>\n",
       "      <td>73.410248</td>\n",
       "      <td>16</td>\n",
       "      <td>3</td>\n",
       "      <td>2.847633</td>\n",
       "    </tr>\n",
       "    <tr>\n",
       "      <th>2020-12-04</th>\n",
       "      <td>2020-12-04 16:55:00</td>\n",
       "      <td>73.429008</td>\n",
       "      <td>16</td>\n",
       "      <td>4</td>\n",
       "      <td>2.434929</td>\n",
       "    </tr>\n",
       "    <tr>\n",
       "      <th>2020-12-07</th>\n",
       "      <td>2020-12-07 16:55:00</td>\n",
       "      <td>73.062325</td>\n",
       "      <td>16</td>\n",
       "      <td>0</td>\n",
       "      <td>3.247620</td>\n",
       "    </tr>\n",
       "    <tr>\n",
       "      <th>...</th>\n",
       "      <td>...</td>\n",
       "      <td>...</td>\n",
       "      <td>...</td>\n",
       "      <td>...</td>\n",
       "      <td>...</td>\n",
       "    </tr>\n",
       "    <tr>\n",
       "      <th>2021-03-25</th>\n",
       "      <td>2021-03-25 16:55:00</td>\n",
       "      <td>64.805283</td>\n",
       "      <td>16</td>\n",
       "      <td>3</td>\n",
       "      <td>1.608479</td>\n",
       "    </tr>\n",
       "    <tr>\n",
       "      <th>2021-03-26</th>\n",
       "      <td>2021-03-26 16:55:00</td>\n",
       "      <td>65.427628</td>\n",
       "      <td>16</td>\n",
       "      <td>4</td>\n",
       "      <td>1.810432</td>\n",
       "    </tr>\n",
       "    <tr>\n",
       "      <th>2021-03-29</th>\n",
       "      <td>2021-03-29 16:55:00</td>\n",
       "      <td>66.516159</td>\n",
       "      <td>16</td>\n",
       "      <td>0</td>\n",
       "      <td>1.213501</td>\n",
       "    </tr>\n",
       "    <tr>\n",
       "      <th>2021-03-30</th>\n",
       "      <td>2021-03-30 16:55:00</td>\n",
       "      <td>67.368950</td>\n",
       "      <td>16</td>\n",
       "      <td>1</td>\n",
       "      <td>1.628166</td>\n",
       "    </tr>\n",
       "    <tr>\n",
       "      <th>2021-03-31</th>\n",
       "      <td>2021-03-31 11:05:00</td>\n",
       "      <td>67.820107</td>\n",
       "      <td>11</td>\n",
       "      <td>2</td>\n",
       "      <td>1.025452</td>\n",
       "    </tr>\n",
       "  </tbody>\n",
       "</table>\n",
       "<p>87 rows × 5 columns</p>\n",
       "</div>"
      ],
      "text/plain": [
       "                       datetime       temp  hour  weekdays     range\n",
       "date                                                                \n",
       "2020-12-01  2020-12-01 16:55:00  72.111481    16         1  1.812111\n",
       "2020-12-02  2020-12-02 16:55:00  72.752472    16         2  2.847229\n",
       "2020-12-03  2020-12-03 16:55:00  73.410248    16         3  2.847633\n",
       "2020-12-04  2020-12-04 16:55:00  73.429008    16         4  2.434929\n",
       "2020-12-07  2020-12-07 16:55:00  73.062325    16         0  3.247620\n",
       "...                         ...        ...   ...       ...       ...\n",
       "2021-03-25  2021-03-25 16:55:00  64.805283    16         3  1.608479\n",
       "2021-03-26  2021-03-26 16:55:00  65.427628    16         4  1.810432\n",
       "2021-03-29  2021-03-29 16:55:00  66.516159    16         0  1.213501\n",
       "2021-03-30  2021-03-30 16:55:00  67.368950    16         1  1.628166\n",
       "2021-03-31  2021-03-31 11:05:00  67.820107    11         2  1.025452\n",
       "\n",
       "[87 rows x 5 columns]"
      ]
     },
     "execution_count": 132,
     "metadata": {},
     "output_type": "execute_result"
    }
   ],
   "source": [
    "df_max"
   ]
  },
  {
   "cell_type": "code",
   "execution_count": 153,
   "metadata": {},
   "outputs": [],
   "source": [
    "t = df_max.range.quantile(p)\n",
    "df_out = df_max[(df_max.range > t)]"
   ]
  },
  {
   "cell_type": "code",
   "execution_count": 154,
   "metadata": {},
   "outputs": [
    {
     "data": {
      "text/html": [
       "<div>\n",
       "<style scoped>\n",
       "    .dataframe tbody tr th:only-of-type {\n",
       "        vertical-align: middle;\n",
       "    }\n",
       "\n",
       "    .dataframe tbody tr th {\n",
       "        vertical-align: top;\n",
       "    }\n",
       "\n",
       "    .dataframe thead th {\n",
       "        text-align: right;\n",
       "    }\n",
       "</style>\n",
       "<table border=\"1\" class=\"dataframe\">\n",
       "  <thead>\n",
       "    <tr style=\"text-align: right;\">\n",
       "      <th></th>\n",
       "      <th>datetime</th>\n",
       "      <th>temp</th>\n",
       "      <th>hour</th>\n",
       "      <th>weekdays</th>\n",
       "      <th>range</th>\n",
       "    </tr>\n",
       "    <tr>\n",
       "      <th>date</th>\n",
       "      <th></th>\n",
       "      <th></th>\n",
       "      <th></th>\n",
       "      <th></th>\n",
       "      <th></th>\n",
       "    </tr>\n",
       "  </thead>\n",
       "  <tbody>\n",
       "    <tr>\n",
       "      <th>2020-12-02</th>\n",
       "      <td>2020-12-02 16:55:00</td>\n",
       "      <td>72.752472</td>\n",
       "      <td>16</td>\n",
       "      <td>2</td>\n",
       "      <td>2.847229</td>\n",
       "    </tr>\n",
       "    <tr>\n",
       "      <th>2020-12-03</th>\n",
       "      <td>2020-12-03 16:55:00</td>\n",
       "      <td>73.410248</td>\n",
       "      <td>16</td>\n",
       "      <td>3</td>\n",
       "      <td>2.847633</td>\n",
       "    </tr>\n",
       "    <tr>\n",
       "      <th>2020-12-07</th>\n",
       "      <td>2020-12-07 16:55:00</td>\n",
       "      <td>73.062325</td>\n",
       "      <td>16</td>\n",
       "      <td>0</td>\n",
       "      <td>3.247620</td>\n",
       "    </tr>\n",
       "    <tr>\n",
       "      <th>2020-12-14</th>\n",
       "      <td>2020-12-14 16:55:00</td>\n",
       "      <td>69.359802</td>\n",
       "      <td>16</td>\n",
       "      <td>0</td>\n",
       "      <td>2.823311</td>\n",
       "    </tr>\n",
       "    <tr>\n",
       "      <th>2020-12-15</th>\n",
       "      <td>2020-12-15 16:55:00</td>\n",
       "      <td>70.586731</td>\n",
       "      <td>16</td>\n",
       "      <td>1</td>\n",
       "      <td>2.827095</td>\n",
       "    </tr>\n",
       "    <tr>\n",
       "      <th>2021-01-05</th>\n",
       "      <td>2021-01-05 16:55:00</td>\n",
       "      <td>63.940075</td>\n",
       "      <td>16</td>\n",
       "      <td>1</td>\n",
       "      <td>3.229652</td>\n",
       "    </tr>\n",
       "    <tr>\n",
       "      <th>2021-01-07</th>\n",
       "      <td>2021-01-07 16:55:00</td>\n",
       "      <td>68.222687</td>\n",
       "      <td>16</td>\n",
       "      <td>3</td>\n",
       "      <td>3.249741</td>\n",
       "    </tr>\n",
       "    <tr>\n",
       "      <th>2021-01-11</th>\n",
       "      <td>2021-01-11 16:55:00</td>\n",
       "      <td>68.115082</td>\n",
       "      <td>16</td>\n",
       "      <td>0</td>\n",
       "      <td>3.249741</td>\n",
       "    </tr>\n",
       "    <tr>\n",
       "      <th>2021-01-12</th>\n",
       "      <td>2021-01-12 16:55:00</td>\n",
       "      <td>69.750946</td>\n",
       "      <td>16</td>\n",
       "      <td>1</td>\n",
       "      <td>2.827354</td>\n",
       "    </tr>\n",
       "    <tr>\n",
       "      <th>2021-01-18</th>\n",
       "      <td>2021-01-18 16:55:00</td>\n",
       "      <td>72.766769</td>\n",
       "      <td>16</td>\n",
       "      <td>0</td>\n",
       "      <td>3.666916</td>\n",
       "    </tr>\n",
       "    <tr>\n",
       "      <th>2021-01-25</th>\n",
       "      <td>2021-01-25 16:55:00</td>\n",
       "      <td>67.838547</td>\n",
       "      <td>16</td>\n",
       "      <td>0</td>\n",
       "      <td>3.050545</td>\n",
       "    </tr>\n",
       "    <tr>\n",
       "      <th>2021-02-01</th>\n",
       "      <td>2021-02-01 16:55:00</td>\n",
       "      <td>69.750282</td>\n",
       "      <td>16</td>\n",
       "      <td>0</td>\n",
       "      <td>3.430573</td>\n",
       "    </tr>\n",
       "    <tr>\n",
       "      <th>2021-02-04</th>\n",
       "      <td>2021-02-04 16:55:00</td>\n",
       "      <td>71.053772</td>\n",
       "      <td>16</td>\n",
       "      <td>3</td>\n",
       "      <td>3.468971</td>\n",
       "    </tr>\n",
       "    <tr>\n",
       "      <th>2021-02-05</th>\n",
       "      <td>2021-02-05 16:55:00</td>\n",
       "      <td>72.297897</td>\n",
       "      <td>16</td>\n",
       "      <td>4</td>\n",
       "      <td>3.847107</td>\n",
       "    </tr>\n",
       "    <tr>\n",
       "      <th>2021-02-08</th>\n",
       "      <td>2021-02-08 16:55:00</td>\n",
       "      <td>70.781891</td>\n",
       "      <td>16</td>\n",
       "      <td>0</td>\n",
       "      <td>2.827271</td>\n",
       "    </tr>\n",
       "    <tr>\n",
       "      <th>2021-02-09</th>\n",
       "      <td>2021-02-09 16:55:00</td>\n",
       "      <td>72.194977</td>\n",
       "      <td>16</td>\n",
       "      <td>1</td>\n",
       "      <td>2.832855</td>\n",
       "    </tr>\n",
       "    <tr>\n",
       "      <th>2021-02-22</th>\n",
       "      <td>2021-02-22 16:55:00</td>\n",
       "      <td>72.236069</td>\n",
       "      <td>16</td>\n",
       "      <td>0</td>\n",
       "      <td>3.253746</td>\n",
       "    </tr>\n",
       "    <tr>\n",
       "      <th>2021-02-23</th>\n",
       "      <td>2021-02-23 16:55:00</td>\n",
       "      <td>74.530067</td>\n",
       "      <td>16</td>\n",
       "      <td>1</td>\n",
       "      <td>3.685242</td>\n",
       "    </tr>\n",
       "  </tbody>\n",
       "</table>\n",
       "</div>"
      ],
      "text/plain": [
       "                       datetime       temp  hour  weekdays     range\n",
       "date                                                                \n",
       "2020-12-02  2020-12-02 16:55:00  72.752472    16         2  2.847229\n",
       "2020-12-03  2020-12-03 16:55:00  73.410248    16         3  2.847633\n",
       "2020-12-07  2020-12-07 16:55:00  73.062325    16         0  3.247620\n",
       "2020-12-14  2020-12-14 16:55:00  69.359802    16         0  2.823311\n",
       "2020-12-15  2020-12-15 16:55:00  70.586731    16         1  2.827095\n",
       "2021-01-05  2021-01-05 16:55:00  63.940075    16         1  3.229652\n",
       "2021-01-07  2021-01-07 16:55:00  68.222687    16         3  3.249741\n",
       "2021-01-11  2021-01-11 16:55:00  68.115082    16         0  3.249741\n",
       "2021-01-12  2021-01-12 16:55:00  69.750946    16         1  2.827354\n",
       "2021-01-18  2021-01-18 16:55:00  72.766769    16         0  3.666916\n",
       "2021-01-25  2021-01-25 16:55:00  67.838547    16         0  3.050545\n",
       "2021-02-01  2021-02-01 16:55:00  69.750282    16         0  3.430573\n",
       "2021-02-04  2021-02-04 16:55:00  71.053772    16         3  3.468971\n",
       "2021-02-05  2021-02-05 16:55:00  72.297897    16         4  3.847107\n",
       "2021-02-08  2021-02-08 16:55:00  70.781891    16         0  2.827271\n",
       "2021-02-09  2021-02-09 16:55:00  72.194977    16         1  2.832855\n",
       "2021-02-22  2021-02-22 16:55:00  72.236069    16         0  3.253746\n",
       "2021-02-23  2021-02-23 16:55:00  74.530067    16         1  3.685242"
      ]
     },
     "execution_count": 154,
     "metadata": {},
     "output_type": "execute_result"
    }
   ],
   "source": [
    "df_out"
   ]
  },
  {
   "cell_type": "code",
   "execution_count": 150,
   "metadata": {},
   "outputs": [],
   "source": [
    "# day= ['Mon.', 'Tue.', 'Wed.', 'Thu.', 'Fri.', 'Sat.', 'Sun.']\n",
    "# for i in range(6):\n",
    "#     df_out = df_out.replace({'weekdays':i}, day[i])"
   ]
  },
  {
   "cell_type": "code",
   "execution_count": 206,
   "metadata": {},
   "outputs": [
    {
     "data": {
      "text/plain": [
       "<AxesSubplot:ylabel='Frequency'>"
      ]
     },
     "execution_count": 206,
     "metadata": {},
     "output_type": "execute_result"
    },
    {
     "data": {
      "image/png": "[encoded data removed]",
      "text/plain": [
       "<Figure size 432x288 with 1 Axes>"
      ]
     },
     "metadata": {
      "needs_background": "light"
     },
     "output_type": "display_data"
    }
   ],
   "source": [
    "import matplotlib.pyplot as plt\n",
    "plt.close(\"all\")\n",
    "plt.figure()\n",
    "df_out.weekdays.plot.hist()\n"
   ]
  },
  {
   "cell_type": "markdown",
   "metadata": {},
   "source": [
    "## Monday is the most uncomfortable day"
   ]
  },
  {
   "cell_type": "code",
   "execution_count": 186,
   "metadata": {},
   "outputs": [
    {
     "data": {
      "text/html": [
       "<div>\n",
       "<style scoped>\n",
       "    .dataframe tbody tr th:only-of-type {\n",
       "        vertical-align: middle;\n",
       "    }\n",
       "\n",
       "    .dataframe tbody tr th {\n",
       "        vertical-align: top;\n",
       "    }\n",
       "\n",
       "    .dataframe thead th {\n",
       "        text-align: right;\n",
       "    }\n",
       "</style>\n",
       "<table border=\"1\" class=\"dataframe\">\n",
       "  <thead>\n",
       "    <tr style=\"text-align: right;\">\n",
       "      <th></th>\n",
       "      <th>datetime</th>\n",
       "      <th>temp</th>\n",
       "      <th>hour</th>\n",
       "      <th>weekdays</th>\n",
       "      <th>range</th>\n",
       "    </tr>\n",
       "    <tr>\n",
       "      <th>date</th>\n",
       "      <th></th>\n",
       "      <th></th>\n",
       "      <th></th>\n",
       "      <th></th>\n",
       "      <th></th>\n",
       "    </tr>\n",
       "  </thead>\n",
       "  <tbody>\n",
       "    <tr>\n",
       "      <th>2020-12-02</th>\n",
       "      <td>2020-12-02 16:55:00</td>\n",
       "      <td>72.752472</td>\n",
       "      <td>16</td>\n",
       "      <td>2</td>\n",
       "      <td>2.847229</td>\n",
       "    </tr>\n",
       "    <tr>\n",
       "      <th>2020-12-03</th>\n",
       "      <td>2020-12-03 16:55:00</td>\n",
       "      <td>73.410248</td>\n",
       "      <td>16</td>\n",
       "      <td>3</td>\n",
       "      <td>2.847633</td>\n",
       "    </tr>\n",
       "    <tr>\n",
       "      <th>2020-12-07</th>\n",
       "      <td>2020-12-07 16:55:00</td>\n",
       "      <td>73.062325</td>\n",
       "      <td>16</td>\n",
       "      <td>0</td>\n",
       "      <td>3.247620</td>\n",
       "    </tr>\n",
       "    <tr>\n",
       "      <th>2020-12-14</th>\n",
       "      <td>2020-12-14 16:55:00</td>\n",
       "      <td>69.359802</td>\n",
       "      <td>16</td>\n",
       "      <td>0</td>\n",
       "      <td>2.823311</td>\n",
       "    </tr>\n",
       "    <tr>\n",
       "      <th>2020-12-15</th>\n",
       "      <td>2020-12-15 16:55:00</td>\n",
       "      <td>70.586731</td>\n",
       "      <td>16</td>\n",
       "      <td>1</td>\n",
       "      <td>2.827095</td>\n",
       "    </tr>\n",
       "    <tr>\n",
       "      <th>2021-01-05</th>\n",
       "      <td>2021-01-05 16:55:00</td>\n",
       "      <td>63.940075</td>\n",
       "      <td>16</td>\n",
       "      <td>1</td>\n",
       "      <td>3.229652</td>\n",
       "    </tr>\n",
       "    <tr>\n",
       "      <th>2021-01-07</th>\n",
       "      <td>2021-01-07 16:55:00</td>\n",
       "      <td>68.222687</td>\n",
       "      <td>16</td>\n",
       "      <td>3</td>\n",
       "      <td>3.249741</td>\n",
       "    </tr>\n",
       "    <tr>\n",
       "      <th>2021-01-11</th>\n",
       "      <td>2021-01-11 16:55:00</td>\n",
       "      <td>68.115082</td>\n",
       "      <td>16</td>\n",
       "      <td>0</td>\n",
       "      <td>3.249741</td>\n",
       "    </tr>\n",
       "    <tr>\n",
       "      <th>2021-01-12</th>\n",
       "      <td>2021-01-12 16:55:00</td>\n",
       "      <td>69.750946</td>\n",
       "      <td>16</td>\n",
       "      <td>1</td>\n",
       "      <td>2.827354</td>\n",
       "    </tr>\n",
       "    <tr>\n",
       "      <th>2021-01-18</th>\n",
       "      <td>2021-01-18 16:55:00</td>\n",
       "      <td>72.766769</td>\n",
       "      <td>16</td>\n",
       "      <td>0</td>\n",
       "      <td>3.666916</td>\n",
       "    </tr>\n",
       "    <tr>\n",
       "      <th>2021-01-25</th>\n",
       "      <td>2021-01-25 16:55:00</td>\n",
       "      <td>67.838547</td>\n",
       "      <td>16</td>\n",
       "      <td>0</td>\n",
       "      <td>3.050545</td>\n",
       "    </tr>\n",
       "    <tr>\n",
       "      <th>2021-02-01</th>\n",
       "      <td>2021-02-01 16:55:00</td>\n",
       "      <td>69.750282</td>\n",
       "      <td>16</td>\n",
       "      <td>0</td>\n",
       "      <td>3.430573</td>\n",
       "    </tr>\n",
       "    <tr>\n",
       "      <th>2021-02-04</th>\n",
       "      <td>2021-02-04 16:55:00</td>\n",
       "      <td>71.053772</td>\n",
       "      <td>16</td>\n",
       "      <td>3</td>\n",
       "      <td>3.468971</td>\n",
       "    </tr>\n",
       "    <tr>\n",
       "      <th>2021-02-05</th>\n",
       "      <td>2021-02-05 16:55:00</td>\n",
       "      <td>72.297897</td>\n",
       "      <td>16</td>\n",
       "      <td>4</td>\n",
       "      <td>3.847107</td>\n",
       "    </tr>\n",
       "    <tr>\n",
       "      <th>2021-02-08</th>\n",
       "      <td>2021-02-08 16:55:00</td>\n",
       "      <td>70.781891</td>\n",
       "      <td>16</td>\n",
       "      <td>0</td>\n",
       "      <td>2.827271</td>\n",
       "    </tr>\n",
       "    <tr>\n",
       "      <th>2021-02-09</th>\n",
       "      <td>2021-02-09 16:55:00</td>\n",
       "      <td>72.194977</td>\n",
       "      <td>16</td>\n",
       "      <td>1</td>\n",
       "      <td>2.832855</td>\n",
       "    </tr>\n",
       "    <tr>\n",
       "      <th>2021-02-22</th>\n",
       "      <td>2021-02-22 16:55:00</td>\n",
       "      <td>72.236069</td>\n",
       "      <td>16</td>\n",
       "      <td>0</td>\n",
       "      <td>3.253746</td>\n",
       "    </tr>\n",
       "    <tr>\n",
       "      <th>2021-02-23</th>\n",
       "      <td>2021-02-23 16:55:00</td>\n",
       "      <td>74.530067</td>\n",
       "      <td>16</td>\n",
       "      <td>1</td>\n",
       "      <td>3.685242</td>\n",
       "    </tr>\n",
       "  </tbody>\n",
       "</table>\n",
       "</div>"
      ],
      "text/plain": [
       "                       datetime       temp  hour  weekdays     range\n",
       "date                                                                \n",
       "2020-12-02  2020-12-02 16:55:00  72.752472    16         2  2.847229\n",
       "2020-12-03  2020-12-03 16:55:00  73.410248    16         3  2.847633\n",
       "2020-12-07  2020-12-07 16:55:00  73.062325    16         0  3.247620\n",
       "2020-12-14  2020-12-14 16:55:00  69.359802    16         0  2.823311\n",
       "2020-12-15  2020-12-15 16:55:00  70.586731    16         1  2.827095\n",
       "2021-01-05  2021-01-05 16:55:00  63.940075    16         1  3.229652\n",
       "2021-01-07  2021-01-07 16:55:00  68.222687    16         3  3.249741\n",
       "2021-01-11  2021-01-11 16:55:00  68.115082    16         0  3.249741\n",
       "2021-01-12  2021-01-12 16:55:00  69.750946    16         1  2.827354\n",
       "2021-01-18  2021-01-18 16:55:00  72.766769    16         0  3.666916\n",
       "2021-01-25  2021-01-25 16:55:00  67.838547    16         0  3.050545\n",
       "2021-02-01  2021-02-01 16:55:00  69.750282    16         0  3.430573\n",
       "2021-02-04  2021-02-04 16:55:00  71.053772    16         3  3.468971\n",
       "2021-02-05  2021-02-05 16:55:00  72.297897    16         4  3.847107\n",
       "2021-02-08  2021-02-08 16:55:00  70.781891    16         0  2.827271\n",
       "2021-02-09  2021-02-09 16:55:00  72.194977    16         1  2.832855\n",
       "2021-02-22  2021-02-22 16:55:00  72.236069    16         0  3.253746\n",
       "2021-02-23  2021-02-23 16:55:00  74.530067    16         1  3.685242"
      ]
     },
     "execution_count": 186,
     "metadata": {},
     "output_type": "execute_result"
    }
   ],
   "source": [
    "df_out\n",
    "df_max = df_out.groupby(['weekdays']).max()"
   ]
  },
  {
   "cell_type": "code",
   "execution_count": 188,
   "metadata": {},
   "outputs": [
    {
     "data": {
      "text/plain": [
       "<AxesSubplot:title={'center':'range'}, xlabel='weekdays'>"
      ]
     },
     "execution_count": 188,
     "metadata": {},
     "output_type": "execute_result"
    },
    {
     "data": {
      "image/png": "[encoded data removed]",
      "text/plain": [
       "<Figure size 432x288 with 1 Axes>"
      ]
     },
     "metadata": {
      "needs_background": "light"
     },
     "output_type": "display_data"
    }
   ],
   "source": [
    "df_out.boxplot(column=['range'], by='weekdays')"
   ]
  },
  {
   "cell_type": "code",
   "execution_count": null,
   "metadata": {},
   "outputs": [],
   "source": []
  }
 ],
 "metadata": {
  "kernelspec": {
   "display_name": "Python 3",
   "language": "python",
   "name": "python3"
  },
  "language_info": {
   "codemirror_mode": {
    "name": "ipython",
    "version": 3
   },
   "file_extension": ".py",
   "mimetype": "text/x-python",
   "name": "python",
   "nbconvert_exporter": "python",
   "pygments_lexer": "ipython3",
   "version": "3.8.5"
  }
 },
 "nbformat": 4,
 "nbformat_minor": 4
}

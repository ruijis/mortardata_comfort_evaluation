{
 "cells": [
  {
   "cell_type": "markdown",
   "metadata": {},
   "source": [
    "# Different long-term thermal comfort indices for continuous monitoring"
   ]
  },
  {
   "cell_type": "code",
   "execution_count": 82,
   "metadata": {},
   "outputs": [],
   "source": [
    "from temperature_range_percentage import *"
   ]
  },
  {
   "cell_type": "code",
   "execution_count": 84,
   "metadata": {},
   "outputs": [
    {
     "data": {
      "text/plain": [
       "\u001b[0;31mSignature:\u001b[0m \u001b[0mtemp_range\u001b[0m\u001b[0;34m(\u001b[0m\u001b[0ml\u001b[0m\u001b[0;34m,\u001b[0m \u001b[0mu\u001b[0m\u001b[0;34m,\u001b[0m \u001b[0mf\u001b[0m\u001b[0;34m)\u001b[0m\u001b[0;34m\u001b[0m\u001b[0;34m\u001b[0m\u001b[0m\n",
       "\u001b[0;31mDocstring:\u001b[0m\n",
       "Calculate the percentage of occupied time outside a temeprature range.\n",
       "The occupied time is supposed to be from 9 am to 5 pm at weekdays. \n",
       "The data file type should be CSV.\n",
       "The first column of the CSV file should be time.\n",
       "The second column of the CSV file should be temperature.\n",
       "\n",
       "Parameters\n",
       "----------\n",
       "l : float\n",
       "    lower bound of the tempearture range, with same units of the data\n",
       "u : float\n",
       "    upper bound of the temperature range, with same units of the data\n",
       "f : string\n",
       "    file path of the CSV dataset\n",
       "\n",
       "Returns\n",
       "----------\n",
       "p : float\n",
       "    percentage of the time\n",
       "\u001b[0;31mFile:\u001b[0m      ~/Documents/GitHub/mortardata_comfort_evaluation/temperature_range_percentage.py\n",
       "\u001b[0;31mType:\u001b[0m      function\n"
      ]
     },
     "metadata": {},
     "output_type": "display_data"
    }
   ],
   "source": [
    "temp_range?\n"
   ]
  },
  {
   "cell_type": "markdown",
   "metadata": {},
   "source": [
    "## No.1: Percentage of occupied time outside a temeprature range"
   ]
  },
  {
   "cell_type": "code",
   "execution_count": 85,
   "metadata": {},
   "outputs": [
    {
     "name": "stdout",
     "output_type": "stream",
     "text": [
      "82%\n"
     ]
    }
   ],
   "source": [
    "Two_East = '/Users/ruijisun/Downloads/20210727 Zone Temperature Data/DBC/Field Bus1.BrowerRadiant2East.ZN2-T.csv'\n",
    "print(\"{:.0%}\".format(temp_range(72, 81, Two_East)))"
   ]
  },
  {
   "cell_type": "code",
   "execution_count": 70,
   "metadata": {},
   "outputs": [
    {
     "name": "stdout",
     "output_type": "stream",
     "text": [
      "38%\n"
     ]
    }
   ],
   "source": [
    "Three_West= '/Users/ruijisun/Downloads/20210727 Zone Temperature Data/DBC/Field Bus1.BrowerRadiant3West.ZN1-T.csv'\n",
    "print(\"{:.0%}\".format(temp_range(72, 81, Three_West)))"
   ]
  },
  {
   "cell_type": "code",
   "execution_count": 71,
   "metadata": {},
   "outputs": [
    {
     "name": "stdout",
     "output_type": "stream",
     "text": [
      "40%\n"
     ]
    }
   ],
   "source": [
    "Four_East = '/Users/ruijisun/Downloads/20210727 Zone Temperature Data/DBC/Field Bus1.BrowerRadiant4East.ZN2-T.csv'\n",
    "print(\"{:.0%}\".format(temp_range(72, 81, Four_East)))"
   ]
  },
  {
   "cell_type": "markdown",
   "metadata": {},
   "source": [
    "## No.2: Mean Temperature "
   ]
  },
  {
   "cell_type": "code",
   "execution_count": 72,
   "metadata": {},
   "outputs": [],
   "source": [
    "from temperature_mean import *"
   ]
  },
  {
   "cell_type": "code",
   "execution_count": 73,
   "metadata": {},
   "outputs": [
    {
     "data": {
      "text/plain": [
       "67.82025979822039"
      ]
     },
     "execution_count": 73,
     "metadata": {},
     "output_type": "execute_result"
    }
   ],
   "source": [
    "temp_mean(Two_East)"
   ]
  },
  {
   "cell_type": "code",
   "execution_count": 74,
   "metadata": {},
   "outputs": [
    {
     "data": {
      "text/plain": [
       "72.63266124303229"
      ]
     },
     "execution_count": 74,
     "metadata": {},
     "output_type": "execute_result"
    }
   ],
   "source": [
    "temp_mean(Three_West)"
   ]
  },
  {
   "cell_type": "code",
   "execution_count": 75,
   "metadata": {},
   "outputs": [
    {
     "data": {
      "text/plain": [
       "71.57280375565651"
      ]
     },
     "execution_count": 75,
     "metadata": {},
     "output_type": "execute_result"
    }
   ],
   "source": [
    "temp_mean(Four_East)"
   ]
  },
  {
   "cell_type": "markdown",
   "metadata": {},
   "source": [
    "## No.3: Temperature Variance "
   ]
  },
  {
   "cell_type": "code",
   "execution_count": 76,
   "metadata": {},
   "outputs": [],
   "source": [
    "from temperature_variance import *"
   ]
  },
  {
   "cell_type": "code",
   "execution_count": 77,
   "metadata": {},
   "outputs": [
    {
     "data": {
      "text/plain": [
       "18.476287426429852"
      ]
     },
     "execution_count": 77,
     "metadata": {},
     "output_type": "execute_result"
    }
   ],
   "source": [
    "temp_var(Two_East)"
   ]
  },
  {
   "cell_type": "code",
   "execution_count": 78,
   "metadata": {},
   "outputs": [
    {
     "data": {
      "text/plain": [
       "25.258746009585497"
      ]
     },
     "execution_count": 78,
     "metadata": {},
     "output_type": "execute_result"
    }
   ],
   "source": [
    "temp_var(Three_West)"
   ]
  },
  {
   "cell_type": "code",
   "execution_count": 79,
   "metadata": {},
   "outputs": [
    {
     "data": {
      "text/plain": [
       "32.218171462457214"
      ]
     },
     "execution_count": 79,
     "metadata": {},
     "output_type": "execute_result"
    }
   ],
   "source": [
    "temp_var(Four_East)"
   ]
  },
  {
   "cell_type": "markdown",
   "metadata": {},
   "source": [
    "## No.4: "
   ]
  },
  {
   "cell_type": "code",
   "execution_count": null,
   "metadata": {},
   "outputs": [],
   "source": []
  },
  {
   "cell_type": "code",
   "execution_count": null,
   "metadata": {},
   "outputs": [],
   "source": []
  },
  {
   "cell_type": "code",
   "execution_count": null,
   "metadata": {},
   "outputs": [],
   "source": []
  },
  {
   "cell_type": "code",
   "execution_count": 46,
   "metadata": {},
   "outputs": [],
   "source": [
    "import pandas as pd\n",
    "f = '/Users/ruijisun/Downloads/20210727 Zone Temperature Data/DBC/Field Bus1.BrowerRadiant2East.ZN2-T.csv'\n",
    "df = pd.read_csv(f)\n",
    "time = df.columns[0]\n",
    "temp = df.columns[1]\n",
    "df['hour'] = pd.to_datetime(df[time]).dt.hour\n",
    "df['weekdays'] = pd.to_datetime(df[time]).dt.dayofweek\n",
    "# create a new occupied dataframe from 9 am to 5 pm at weekdays\n",
    "df_occ = df[(df['hour'] >= 9) & (df['hour'] < 17) &\n",
    "            (df['weekdays'] >= 0) & (df['weekdays'] <= 4)]\n"
   ]
  },
  {
   "cell_type": "code",
   "execution_count": 47,
   "metadata": {},
   "outputs": [
    {
     "data": {
      "text/html": [
       "<div>\n",
       "<style scoped>\n",
       "    .dataframe tbody tr th:only-of-type {\n",
       "        vertical-align: middle;\n",
       "    }\n",
       "\n",
       "    .dataframe tbody tr th {\n",
       "        vertical-align: top;\n",
       "    }\n",
       "\n",
       "    .dataframe thead th {\n",
       "        text-align: right;\n",
       "    }\n",
       "</style>\n",
       "<table border=\"1\" class=\"dataframe\">\n",
       "  <thead>\n",
       "    <tr style=\"text-align: right;\">\n",
       "      <th></th>\n",
       "      <th>datetime</th>\n",
       "      <th>/FS4/NAE00806603BECA/3001087/NAE00806603BECA/Field Bus1.BrowerRadiant2East.ZN2-T</th>\n",
       "      <th>hour</th>\n",
       "      <th>weekdays</th>\n",
       "    </tr>\n",
       "  </thead>\n",
       "  <tbody>\n",
       "    <tr>\n",
       "      <th>0</th>\n",
       "      <td>2020-12-01 10:05:00</td>\n",
       "      <td>70.299370</td>\n",
       "      <td>10</td>\n",
       "      <td>1</td>\n",
       "    </tr>\n",
       "    <tr>\n",
       "      <th>1</th>\n",
       "      <td>2020-12-01 10:10:00</td>\n",
       "      <td>70.299370</td>\n",
       "      <td>10</td>\n",
       "      <td>1</td>\n",
       "    </tr>\n",
       "    <tr>\n",
       "      <th>2</th>\n",
       "      <td>2020-12-01 10:15:00</td>\n",
       "      <td>70.299370</td>\n",
       "      <td>10</td>\n",
       "      <td>1</td>\n",
       "    </tr>\n",
       "    <tr>\n",
       "      <th>3</th>\n",
       "      <td>2020-12-01 10:20:00</td>\n",
       "      <td>70.299370</td>\n",
       "      <td>10</td>\n",
       "      <td>1</td>\n",
       "    </tr>\n",
       "    <tr>\n",
       "      <th>4</th>\n",
       "      <td>2020-12-01 10:25:00</td>\n",
       "      <td>70.502136</td>\n",
       "      <td>10</td>\n",
       "      <td>1</td>\n",
       "    </tr>\n",
       "    <tr>\n",
       "      <th>...</th>\n",
       "      <td>...</td>\n",
       "      <td>...</td>\n",
       "      <td>...</td>\n",
       "      <td>...</td>\n",
       "    </tr>\n",
       "    <tr>\n",
       "      <th>34556</th>\n",
       "      <td>2021-03-31 10:45:00</td>\n",
       "      <td>67.608704</td>\n",
       "      <td>10</td>\n",
       "      <td>2</td>\n",
       "    </tr>\n",
       "    <tr>\n",
       "      <th>34557</th>\n",
       "      <td>2021-03-31 10:50:00</td>\n",
       "      <td>67.608704</td>\n",
       "      <td>10</td>\n",
       "      <td>2</td>\n",
       "    </tr>\n",
       "    <tr>\n",
       "      <th>34558</th>\n",
       "      <td>2021-03-31 10:55:00</td>\n",
       "      <td>67.820107</td>\n",
       "      <td>10</td>\n",
       "      <td>2</td>\n",
       "    </tr>\n",
       "    <tr>\n",
       "      <th>34559</th>\n",
       "      <td>2021-03-31 11:00:00</td>\n",
       "      <td>67.820107</td>\n",
       "      <td>11</td>\n",
       "      <td>2</td>\n",
       "    </tr>\n",
       "    <tr>\n",
       "      <th>34560</th>\n",
       "      <td>2021-03-31 11:05:00</td>\n",
       "      <td>67.820107</td>\n",
       "      <td>11</td>\n",
       "      <td>2</td>\n",
       "    </tr>\n",
       "  </tbody>\n",
       "</table>\n",
       "<p>8269 rows × 4 columns</p>\n",
       "</div>"
      ],
      "text/plain": [
       "                  datetime  \\\n",
       "0      2020-12-01 10:05:00   \n",
       "1      2020-12-01 10:10:00   \n",
       "2      2020-12-01 10:15:00   \n",
       "3      2020-12-01 10:20:00   \n",
       "4      2020-12-01 10:25:00   \n",
       "...                    ...   \n",
       "34556  2021-03-31 10:45:00   \n",
       "34557  2021-03-31 10:50:00   \n",
       "34558  2021-03-31 10:55:00   \n",
       "34559  2021-03-31 11:00:00   \n",
       "34560  2021-03-31 11:05:00   \n",
       "\n",
       "       /FS4/NAE00806603BECA/3001087/NAE00806603BECA/Field Bus1.BrowerRadiant2East.ZN2-T  \\\n",
       "0                                              70.299370                                  \n",
       "1                                              70.299370                                  \n",
       "2                                              70.299370                                  \n",
       "3                                              70.299370                                  \n",
       "4                                              70.502136                                  \n",
       "...                                                  ...                                  \n",
       "34556                                          67.608704                                  \n",
       "34557                                          67.608704                                  \n",
       "34558                                          67.820107                                  \n",
       "34559                                          67.820107                                  \n",
       "34560                                          67.820107                                  \n",
       "\n",
       "       hour  weekdays  \n",
       "0        10         1  \n",
       "1        10         1  \n",
       "2        10         1  \n",
       "3        10         1  \n",
       "4        10         1  \n",
       "...     ...       ...  \n",
       "34556    10         2  \n",
       "34557    10         2  \n",
       "34558    10         2  \n",
       "34559    11         2  \n",
       "34560    11         2  \n",
       "\n",
       "[8269 rows x 4 columns]"
      ]
     },
     "execution_count": 47,
     "metadata": {},
     "output_type": "execute_result"
    }
   ],
   "source": [
    "df_occ"
   ]
  },
  {
   "cell_type": "code",
   "execution_count": 49,
   "metadata": {},
   "outputs": [
    {
     "data": {
      "text/html": [
       "<div>\n",
       "<style scoped>\n",
       "    .dataframe tbody tr th:only-of-type {\n",
       "        vertical-align: middle;\n",
       "    }\n",
       "\n",
       "    .dataframe tbody tr th {\n",
       "        vertical-align: top;\n",
       "    }\n",
       "\n",
       "    .dataframe thead th {\n",
       "        text-align: right;\n",
       "    }\n",
       "</style>\n",
       "<table border=\"1\" class=\"dataframe\">\n",
       "  <thead>\n",
       "    <tr style=\"text-align: right;\">\n",
       "      <th></th>\n",
       "      <th></th>\n",
       "      <th>/FS4/NAE00806603BECA/3001087/NAE00806603BECA/Field Bus1.BrowerRadiant2East.ZN2-T</th>\n",
       "      <th>weekdays</th>\n",
       "    </tr>\n",
       "    <tr>\n",
       "      <th>date</th>\n",
       "      <th>hour</th>\n",
       "      <th></th>\n",
       "      <th></th>\n",
       "    </tr>\n",
       "  </thead>\n",
       "  <tbody>\n",
       "    <tr>\n",
       "      <th rowspan=\"5\" valign=\"top\">2020-12-01</th>\n",
       "      <th>10</th>\n",
       "      <td>70.501251</td>\n",
       "      <td>1</td>\n",
       "    </tr>\n",
       "    <tr>\n",
       "      <th>11</th>\n",
       "      <td>71.118356</td>\n",
       "      <td>1</td>\n",
       "    </tr>\n",
       "    <tr>\n",
       "      <th>12</th>\n",
       "      <td>71.555191</td>\n",
       "      <td>1</td>\n",
       "    </tr>\n",
       "    <tr>\n",
       "      <th>13</th>\n",
       "      <td>71.745759</td>\n",
       "      <td>1</td>\n",
       "    </tr>\n",
       "    <tr>\n",
       "      <th>14</th>\n",
       "      <td>71.912277</td>\n",
       "      <td>1</td>\n",
       "    </tr>\n",
       "    <tr>\n",
       "      <th>...</th>\n",
       "      <th>...</th>\n",
       "      <td>...</td>\n",
       "      <td>...</td>\n",
       "    </tr>\n",
       "    <tr>\n",
       "      <th rowspan=\"2\" valign=\"top\">2021-03-30</th>\n",
       "      <th>15</th>\n",
       "      <td>67.368950</td>\n",
       "      <td>1</td>\n",
       "    </tr>\n",
       "    <tr>\n",
       "      <th>16</th>\n",
       "      <td>67.368950</td>\n",
       "      <td>1</td>\n",
       "    </tr>\n",
       "    <tr>\n",
       "      <th rowspan=\"3\" valign=\"top\">2021-03-31</th>\n",
       "      <th>9</th>\n",
       "      <td>67.113436</td>\n",
       "      <td>2</td>\n",
       "    </tr>\n",
       "    <tr>\n",
       "      <th>10</th>\n",
       "      <td>67.541987</td>\n",
       "      <td>2</td>\n",
       "    </tr>\n",
       "    <tr>\n",
       "      <th>11</th>\n",
       "      <td>67.820107</td>\n",
       "      <td>2</td>\n",
       "    </tr>\n",
       "  </tbody>\n",
       "</table>\n",
       "<p>690 rows × 2 columns</p>\n",
       "</div>"
      ],
      "text/plain": [
       "                 /FS4/NAE00806603BECA/3001087/NAE00806603BECA/Field Bus1.BrowerRadiant2East.ZN2-T  \\\n",
       "date       hour                                                                                     \n",
       "2020-12-01 10                                            70.501251                                  \n",
       "           11                                            71.118356                                  \n",
       "           12                                            71.555191                                  \n",
       "           13                                            71.745759                                  \n",
       "           14                                            71.912277                                  \n",
       "...                                                            ...                                  \n",
       "2021-03-30 15                                            67.368950                                  \n",
       "           16                                            67.368950                                  \n",
       "2021-03-31 9                                             67.113436                                  \n",
       "           10                                            67.541987                                  \n",
       "           11                                            67.820107                                  \n",
       "\n",
       "                 weekdays  \n",
       "date       hour            \n",
       "2020-12-01 10           1  \n",
       "           11           1  \n",
       "           12           1  \n",
       "           13           1  \n",
       "           14           1  \n",
       "...                   ...  \n",
       "2021-03-30 15           1  \n",
       "           16           1  \n",
       "2021-03-31 9            2  \n",
       "           10           2  \n",
       "           11           2  \n",
       "\n",
       "[690 rows x 2 columns]"
      ]
     },
     "execution_count": 49,
     "metadata": {},
     "output_type": "execute_result"
    }
   ],
   "source": [
    "df_occ.groupby(['date', 'hour']).mean()"
   ]
  },
  {
   "cell_type": "code",
   "execution_count": 35,
   "metadata": {},
   "outputs": [
    {
     "data": {
      "text/plain": [
       "/FS4/NAE00806603BECA/3001087/NAE00806603BECA/Field Bus1.BrowerRadiant2East.ZN2-T    18.476287\n",
       "weekdays                                                                             1.983932\n",
       "dtype: float64"
      ]
     },
     "execution_count": 35,
     "metadata": {},
     "output_type": "execute_result"
    }
   ],
   "source": [
    "df_hrs.var()"
   ]
  },
  {
   "cell_type": "code",
   "execution_count": 22,
   "metadata": {},
   "outputs": [
    {
     "data": {
      "text/html": [
       "<div>\n",
       "<style scoped>\n",
       "    .dataframe tbody tr th:only-of-type {\n",
       "        vertical-align: middle;\n",
       "    }\n",
       "\n",
       "    .dataframe tbody tr th {\n",
       "        vertical-align: top;\n",
       "    }\n",
       "\n",
       "    .dataframe thead th {\n",
       "        text-align: right;\n",
       "    }\n",
       "</style>\n",
       "<table border=\"1\" class=\"dataframe\">\n",
       "  <thead>\n",
       "    <tr style=\"text-align: right;\">\n",
       "      <th></th>\n",
       "      <th>datetime</th>\n",
       "      <th>/FS4/NAE00806603BECA/3001087/NAE00806603BECA/Field Bus1.BrowerRadiant2East.ZN2-T</th>\n",
       "      <th>date</th>\n",
       "      <th>hour</th>\n",
       "      <th>weekdays</th>\n",
       "    </tr>\n",
       "  </thead>\n",
       "  <tbody>\n",
       "    <tr>\n",
       "      <th>0</th>\n",
       "      <td>2020-12-01 10:05:00</td>\n",
       "      <td>70.299370</td>\n",
       "      <td>2020-12-01</td>\n",
       "      <td>10</td>\n",
       "      <td>1</td>\n",
       "    </tr>\n",
       "    <tr>\n",
       "      <th>1</th>\n",
       "      <td>2020-12-01 10:10:00</td>\n",
       "      <td>70.299370</td>\n",
       "      <td>2020-12-01</td>\n",
       "      <td>10</td>\n",
       "      <td>1</td>\n",
       "    </tr>\n",
       "    <tr>\n",
       "      <th>2</th>\n",
       "      <td>2020-12-01 10:15:00</td>\n",
       "      <td>70.299370</td>\n",
       "      <td>2020-12-01</td>\n",
       "      <td>10</td>\n",
       "      <td>1</td>\n",
       "    </tr>\n",
       "    <tr>\n",
       "      <th>3</th>\n",
       "      <td>2020-12-01 10:20:00</td>\n",
       "      <td>70.299370</td>\n",
       "      <td>2020-12-01</td>\n",
       "      <td>10</td>\n",
       "      <td>1</td>\n",
       "    </tr>\n",
       "    <tr>\n",
       "      <th>4</th>\n",
       "      <td>2020-12-01 10:25:00</td>\n",
       "      <td>70.502136</td>\n",
       "      <td>2020-12-01</td>\n",
       "      <td>10</td>\n",
       "      <td>1</td>\n",
       "    </tr>\n",
       "    <tr>\n",
       "      <th>...</th>\n",
       "      <td>...</td>\n",
       "      <td>...</td>\n",
       "      <td>...</td>\n",
       "      <td>...</td>\n",
       "      <td>...</td>\n",
       "    </tr>\n",
       "    <tr>\n",
       "      <th>34556</th>\n",
       "      <td>2021-03-31 10:45:00</td>\n",
       "      <td>67.608704</td>\n",
       "      <td>2021-03-31</td>\n",
       "      <td>10</td>\n",
       "      <td>2</td>\n",
       "    </tr>\n",
       "    <tr>\n",
       "      <th>34557</th>\n",
       "      <td>2021-03-31 10:50:00</td>\n",
       "      <td>67.608704</td>\n",
       "      <td>2021-03-31</td>\n",
       "      <td>10</td>\n",
       "      <td>2</td>\n",
       "    </tr>\n",
       "    <tr>\n",
       "      <th>34558</th>\n",
       "      <td>2021-03-31 10:55:00</td>\n",
       "      <td>67.820107</td>\n",
       "      <td>2021-03-31</td>\n",
       "      <td>10</td>\n",
       "      <td>2</td>\n",
       "    </tr>\n",
       "    <tr>\n",
       "      <th>34559</th>\n",
       "      <td>2021-03-31 11:00:00</td>\n",
       "      <td>67.820107</td>\n",
       "      <td>2021-03-31</td>\n",
       "      <td>11</td>\n",
       "      <td>2</td>\n",
       "    </tr>\n",
       "    <tr>\n",
       "      <th>34560</th>\n",
       "      <td>2021-03-31 11:05:00</td>\n",
       "      <td>67.820107</td>\n",
       "      <td>2021-03-31</td>\n",
       "      <td>11</td>\n",
       "      <td>2</td>\n",
       "    </tr>\n",
       "  </tbody>\n",
       "</table>\n",
       "<p>8269 rows × 5 columns</p>\n",
       "</div>"
      ],
      "text/plain": [
       "                  datetime  \\\n",
       "0      2020-12-01 10:05:00   \n",
       "1      2020-12-01 10:10:00   \n",
       "2      2020-12-01 10:15:00   \n",
       "3      2020-12-01 10:20:00   \n",
       "4      2020-12-01 10:25:00   \n",
       "...                    ...   \n",
       "34556  2021-03-31 10:45:00   \n",
       "34557  2021-03-31 10:50:00   \n",
       "34558  2021-03-31 10:55:00   \n",
       "34559  2021-03-31 11:00:00   \n",
       "34560  2021-03-31 11:05:00   \n",
       "\n",
       "       /FS4/NAE00806603BECA/3001087/NAE00806603BECA/Field Bus1.BrowerRadiant2East.ZN2-T  \\\n",
       "0                                              70.299370                                  \n",
       "1                                              70.299370                                  \n",
       "2                                              70.299370                                  \n",
       "3                                              70.299370                                  \n",
       "4                                              70.502136                                  \n",
       "...                                                  ...                                  \n",
       "34556                                          67.608704                                  \n",
       "34557                                          67.608704                                  \n",
       "34558                                          67.820107                                  \n",
       "34559                                          67.820107                                  \n",
       "34560                                          67.820107                                  \n",
       "\n",
       "             date  hour  weekdays  \n",
       "0      2020-12-01    10         1  \n",
       "1      2020-12-01    10         1  \n",
       "2      2020-12-01    10         1  \n",
       "3      2020-12-01    10         1  \n",
       "4      2020-12-01    10         1  \n",
       "...           ...   ...       ...  \n",
       "34556  2021-03-31    10         2  \n",
       "34557  2021-03-31    10         2  \n",
       "34558  2021-03-31    10         2  \n",
       "34559  2021-03-31    11         2  \n",
       "34560  2021-03-31    11         2  \n",
       "\n",
       "[8269 rows x 5 columns]"
      ]
     },
     "execution_count": 22,
     "metadata": {},
     "output_type": "execute_result"
    }
   ],
   "source": [
    "df_occ"
   ]
  }
 ],
 "metadata": {
  "kernelspec": {
   "display_name": "Python 3",
   "language": "python",
   "name": "python3"
  },
  "language_info": {
   "codemirror_mode": {
    "name": "ipython",
    "version": 3
   },
   "file_extension": ".py",
   "mimetype": "text/x-python",
   "name": "python",
   "nbconvert_exporter": "python",
   "pygments_lexer": "ipython3",
   "version": "3.8.5"
  }
 },
 "nbformat": 4,
 "nbformat_minor": 4
}

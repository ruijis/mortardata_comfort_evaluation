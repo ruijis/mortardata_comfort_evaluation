{
 "cells": [
  {
   "cell_type": "markdown",
   "metadata": {},
   "source": [
    "# Different long-term thermal comfort indices for continuous monitoring"
   ]
  },
  {
   "cell_type": "code",
   "execution_count": 1,
   "metadata": {},
   "outputs": [],
   "source": [
    "from temperature_range_percentage import *"
   ]
  },
  {
   "cell_type": "code",
   "execution_count": 2,
   "metadata": {},
   "outputs": [
    {
     "data": {
      "text/plain": [
       "\u001b[0;31mSignature:\u001b[0m \u001b[0mtemp_range\u001b[0m\u001b[0;34m(\u001b[0m\u001b[0ma\u001b[0m\u001b[0;34m,\u001b[0m \u001b[0mb\u001b[0m\u001b[0;34m,\u001b[0m \u001b[0ml\u001b[0m\u001b[0;34m,\u001b[0m \u001b[0mu\u001b[0m\u001b[0;34m,\u001b[0m \u001b[0mf\u001b[0m\u001b[0;34m)\u001b[0m\u001b[0;34m\u001b[0m\u001b[0;34m\u001b[0m\u001b[0m\n",
       "\u001b[0;31mDocstring:\u001b[0m\n",
       "Calculate the percentage of occupied time outside a temeprature range.\n",
       "The data file type should be CSV.\n",
       "The first column of the CSV file should be time.\n",
       "The second column of the CSV file should be temperature.\n",
       "\n",
       "Parameters\n",
       "----------\n",
       "a : int\n",
       "    The start time (24-hour clock) of normal office hours during weekdays\n",
       "b : int\n",
       "    The end time (24-hour clock) of normal office hours during weekdays\n",
       "l : float\n",
       "    lower bound of the tempearture range, with same units of the data\n",
       "u : float\n",
       "    upper bound of the temperature range, with same units of the data\n",
       "f : string\n",
       "    file path of the CSV dataset\n",
       "\n",
       "\n",
       "Returns\n",
       "----------\n",
       "p : float\n",
       "    percentage of the time\n",
       "\u001b[0;31mFile:\u001b[0m      ~/Documents/GitHub/mortardata_comfort_evaluation/temperature_range_percentage.py\n",
       "\u001b[0;31mType:\u001b[0m      function\n"
      ]
     },
     "metadata": {},
     "output_type": "display_data"
    }
   ],
   "source": [
    "temp_range?"
   ]
  },
  {
   "cell_type": "markdown",
   "metadata": {},
   "source": [
    "## No.1: Percentage of occupied time outside a temeprature range"
   ]
  },
  {
   "cell_type": "code",
   "execution_count": 3,
   "metadata": {},
   "outputs": [
    {
     "name": "stdout",
     "output_type": "stream",
     "text": [
      "82%\n"
     ]
    }
   ],
   "source": [
    "Two_East = '/Users/ruijisun/Documents/20210727 Zone Temperature Data/DBC/Field Bus1.BrowerRadiant2East.ZN2-T.csv'\n",
    "\n",
    "print(\"{:.0%}\".format(temp_range(9, 17, 72, 81, Two_East)))"
   ]
  },
  {
   "cell_type": "code",
   "execution_count": 4,
   "metadata": {},
   "outputs": [
    {
     "name": "stdout",
     "output_type": "stream",
     "text": [
      "38%\n"
     ]
    }
   ],
   "source": [
    "Three_West= '/Users/ruijisun/Documents/20210727 Zone Temperature Data/DBC/Field Bus1.BrowerRadiant3West.ZN1-T.csv'\n",
    "print(\"{:.0%}\".format(temp_range(9, 17, 72, 81, Three_West)))"
   ]
  },
  {
   "cell_type": "code",
   "execution_count": 5,
   "metadata": {},
   "outputs": [
    {
     "name": "stdout",
     "output_type": "stream",
     "text": [
      "40%\n"
     ]
    }
   ],
   "source": [
    "Four_East = '/Users/ruijisun/Documents/20210727 Zone Temperature Data/DBC/Field Bus1.BrowerRadiant4East.ZN2-T.csv'\n",
    "print(\"{:.0%}\".format(temp_range(9, 17, 72, 81, Four_East)))"
   ]
  },
  {
   "cell_type": "markdown",
   "metadata": {},
   "source": [
    "## No.2: Mean Temperature "
   ]
  },
  {
   "cell_type": "code",
   "execution_count": 6,
   "metadata": {},
   "outputs": [],
   "source": [
    "from temperature_mean import *"
   ]
  },
  {
   "cell_type": "code",
   "execution_count": 7,
   "metadata": {},
   "outputs": [
    {
     "data": {
      "text/plain": [
       "67.82025979822039"
      ]
     },
     "execution_count": 7,
     "metadata": {},
     "output_type": "execute_result"
    }
   ],
   "source": [
    "temp_mean(9, 17, Two_East)"
   ]
  },
  {
   "cell_type": "code",
   "execution_count": 8,
   "metadata": {},
   "outputs": [
    {
     "data": {
      "text/plain": [
       "72.63266124303229"
      ]
     },
     "execution_count": 8,
     "metadata": {},
     "output_type": "execute_result"
    }
   ],
   "source": [
    "temp_mean(9, 17, Three_West)"
   ]
  },
  {
   "cell_type": "code",
   "execution_count": 9,
   "metadata": {},
   "outputs": [
    {
     "data": {
      "text/plain": [
       "71.57280375565651"
      ]
     },
     "execution_count": 9,
     "metadata": {},
     "output_type": "execute_result"
    }
   ],
   "source": [
    "temp_mean(9, 17, Four_East)"
   ]
  },
  {
   "cell_type": "markdown",
   "metadata": {},
   "source": [
    "## No.3: Temperature Variance "
   ]
  },
  {
   "cell_type": "code",
   "execution_count": 10,
   "metadata": {},
   "outputs": [],
   "source": [
    "from temperature_variance import *"
   ]
  },
  {
   "cell_type": "code",
   "execution_count": 11,
   "metadata": {},
   "outputs": [
    {
     "data": {
      "text/plain": [
       "25.258746009585497"
      ]
     },
     "execution_count": 11,
     "metadata": {},
     "output_type": "execute_result"
    }
   ],
   "source": [
    "temp_var(9, 17, Three_West)"
   ]
  },
  {
   "cell_type": "code",
   "execution_count": 12,
   "metadata": {},
   "outputs": [
    {
     "data": {
      "text/plain": [
       "32.218171462457214"
      ]
     },
     "execution_count": 12,
     "metadata": {},
     "output_type": "execute_result"
    }
   ],
   "source": [
    "temp_var(9, 17, Four_East)"
   ]
  },
  {
   "cell_type": "markdown",
   "metadata": {},
   "source": [
    "## No.4: Percentage of occupied days that daily temperature range are out of the threshold"
   ]
  },
  {
   "cell_type": "code",
   "execution_count": 14,
   "metadata": {},
   "outputs": [],
   "source": [
    "from temperature_daily_outlier import *"
   ]
  },
  {
   "cell_type": "code",
   "execution_count": 15,
   "metadata": {},
   "outputs": [
    {
     "name": "stdout",
     "output_type": "stream",
     "text": [
      "21%\n"
     ]
    }
   ],
   "source": [
    "print(\"{:.0%}\".format(temp_daily(9, 17, 0.8, Two_East)))"
   ]
  },
  {
   "cell_type": "code",
   "execution_count": 16,
   "metadata": {},
   "outputs": [
    {
     "name": "stdout",
     "output_type": "stream",
     "text": [
      "21%\n"
     ]
    }
   ],
   "source": [
    "print(\"{:.0%}\".format(temp_daily(9, 17, 0.8, Three_West)))"
   ]
  },
  {
   "cell_type": "code",
   "execution_count": 17,
   "metadata": {},
   "outputs": [
    {
     "name": "stdout",
     "output_type": "stream",
     "text": [
      "21%\n"
     ]
    }
   ],
   "source": [
    "print(\"{:.0%}\".format(temp_daily(9, 17, 0.8, Four_East)))"
   ]
  },
  {
   "cell_type": "code",
   "execution_count": null,
   "metadata": {},
   "outputs": [],
   "source": []
  },
  {
   "cell_type": "code",
   "execution_count": null,
   "metadata": {},
   "outputs": [],
   "source": []
  },
  {
   "cell_type": "code",
   "execution_count": null,
   "metadata": {},
   "outputs": [],
   "source": []
  },
  {
   "cell_type": "code",
   "execution_count": null,
   "metadata": {},
   "outputs": [],
   "source": []
  },
  {
   "cell_type": "code",
   "execution_count": 21,
   "metadata": {},
   "outputs": [],
   "source": [
    "df = pd.read_csv(Two_East)\n",
    "time = df.columns[0]\n",
    "temp = df.columns[1]\n",
    "# get the date from the time for groupby function later on\n",
    "df['date'] = pd.to_datetime(df[time]).dt.date\n",
    "df['hour'] = pd.to_datetime(df[time]).dt.hour\n",
    "df['weekdays'] = pd.to_datetime(df[time]).dt.dayofweek\n",
    "# create a new occupied dataframe from 9 am to 5 pm at weekdays\n",
    "df_occ = df[(df['hour'] >= 9) & (df['hour'] < 17) &\n",
    "            (df['weekdays'] >= 0) & (df['weekdays'] <= 4)]\n",
    "# calculate daily temperature range by max minus min\n",
    "df_max = df_occ.groupby(['date']).max()\n",
    "df_min = df_occ.groupby(['date']).min()\n",
    "df_range = df_max[temp] - df_min[temp]"
   ]
  },
  {
   "cell_type": "code",
   "execution_count": 22,
   "metadata": {},
   "outputs": [
    {
     "data": {
      "text/html": [
       "<div>\n",
       "<style scoped>\n",
       "    .dataframe tbody tr th:only-of-type {\n",
       "        vertical-align: middle;\n",
       "    }\n",
       "\n",
       "    .dataframe tbody tr th {\n",
       "        vertical-align: top;\n",
       "    }\n",
       "\n",
       "    .dataframe thead th {\n",
       "        text-align: right;\n",
       "    }\n",
       "</style>\n",
       "<table border=\"1\" class=\"dataframe\">\n",
       "  <thead>\n",
       "    <tr style=\"text-align: right;\">\n",
       "      <th></th>\n",
       "      <th>datetime</th>\n",
       "      <th>/FS4/NAE00806603BECA/3001087/NAE00806603BECA/Field Bus1.BrowerRadiant2East.ZN2-T</th>\n",
       "      <th>date</th>\n",
       "      <th>hour</th>\n",
       "      <th>weekdays</th>\n",
       "    </tr>\n",
       "  </thead>\n",
       "  <tbody>\n",
       "    <tr>\n",
       "      <th>0</th>\n",
       "      <td>2020-12-01 10:05:00</td>\n",
       "      <td>70.299370</td>\n",
       "      <td>2020-12-01</td>\n",
       "      <td>10</td>\n",
       "      <td>1</td>\n",
       "    </tr>\n",
       "    <tr>\n",
       "      <th>1</th>\n",
       "      <td>2020-12-01 10:10:00</td>\n",
       "      <td>70.299370</td>\n",
       "      <td>2020-12-01</td>\n",
       "      <td>10</td>\n",
       "      <td>1</td>\n",
       "    </tr>\n",
       "    <tr>\n",
       "      <th>2</th>\n",
       "      <td>2020-12-01 10:15:00</td>\n",
       "      <td>70.299370</td>\n",
       "      <td>2020-12-01</td>\n",
       "      <td>10</td>\n",
       "      <td>1</td>\n",
       "    </tr>\n",
       "    <tr>\n",
       "      <th>3</th>\n",
       "      <td>2020-12-01 10:20:00</td>\n",
       "      <td>70.299370</td>\n",
       "      <td>2020-12-01</td>\n",
       "      <td>10</td>\n",
       "      <td>1</td>\n",
       "    </tr>\n",
       "    <tr>\n",
       "      <th>4</th>\n",
       "      <td>2020-12-01 10:25:00</td>\n",
       "      <td>70.502136</td>\n",
       "      <td>2020-12-01</td>\n",
       "      <td>10</td>\n",
       "      <td>1</td>\n",
       "    </tr>\n",
       "    <tr>\n",
       "      <th>...</th>\n",
       "      <td>...</td>\n",
       "      <td>...</td>\n",
       "      <td>...</td>\n",
       "      <td>...</td>\n",
       "      <td>...</td>\n",
       "    </tr>\n",
       "    <tr>\n",
       "      <th>34556</th>\n",
       "      <td>2021-03-31 10:45:00</td>\n",
       "      <td>67.608704</td>\n",
       "      <td>2021-03-31</td>\n",
       "      <td>10</td>\n",
       "      <td>2</td>\n",
       "    </tr>\n",
       "    <tr>\n",
       "      <th>34557</th>\n",
       "      <td>2021-03-31 10:50:00</td>\n",
       "      <td>67.608704</td>\n",
       "      <td>2021-03-31</td>\n",
       "      <td>10</td>\n",
       "      <td>2</td>\n",
       "    </tr>\n",
       "    <tr>\n",
       "      <th>34558</th>\n",
       "      <td>2021-03-31 10:55:00</td>\n",
       "      <td>67.820107</td>\n",
       "      <td>2021-03-31</td>\n",
       "      <td>10</td>\n",
       "      <td>2</td>\n",
       "    </tr>\n",
       "    <tr>\n",
       "      <th>34559</th>\n",
       "      <td>2021-03-31 11:00:00</td>\n",
       "      <td>67.820107</td>\n",
       "      <td>2021-03-31</td>\n",
       "      <td>11</td>\n",
       "      <td>2</td>\n",
       "    </tr>\n",
       "    <tr>\n",
       "      <th>34560</th>\n",
       "      <td>2021-03-31 11:05:00</td>\n",
       "      <td>67.820107</td>\n",
       "      <td>2021-03-31</td>\n",
       "      <td>11</td>\n",
       "      <td>2</td>\n",
       "    </tr>\n",
       "  </tbody>\n",
       "</table>\n",
       "<p>8269 rows × 5 columns</p>\n",
       "</div>"
      ],
      "text/plain": [
       "                  datetime  \\\n",
       "0      2020-12-01 10:05:00   \n",
       "1      2020-12-01 10:10:00   \n",
       "2      2020-12-01 10:15:00   \n",
       "3      2020-12-01 10:20:00   \n",
       "4      2020-12-01 10:25:00   \n",
       "...                    ...   \n",
       "34556  2021-03-31 10:45:00   \n",
       "34557  2021-03-31 10:50:00   \n",
       "34558  2021-03-31 10:55:00   \n",
       "34559  2021-03-31 11:00:00   \n",
       "34560  2021-03-31 11:05:00   \n",
       "\n",
       "       /FS4/NAE00806603BECA/3001087/NAE00806603BECA/Field Bus1.BrowerRadiant2East.ZN2-T  \\\n",
       "0                                              70.299370                                  \n",
       "1                                              70.299370                                  \n",
       "2                                              70.299370                                  \n",
       "3                                              70.299370                                  \n",
       "4                                              70.502136                                  \n",
       "...                                                  ...                                  \n",
       "34556                                          67.608704                                  \n",
       "34557                                          67.608704                                  \n",
       "34558                                          67.820107                                  \n",
       "34559                                          67.820107                                  \n",
       "34560                                          67.820107                                  \n",
       "\n",
       "             date  hour  weekdays  \n",
       "0      2020-12-01    10         1  \n",
       "1      2020-12-01    10         1  \n",
       "2      2020-12-01    10         1  \n",
       "3      2020-12-01    10         1  \n",
       "4      2020-12-01    10         1  \n",
       "...           ...   ...       ...  \n",
       "34556  2021-03-31    10         2  \n",
       "34557  2021-03-31    10         2  \n",
       "34558  2021-03-31    10         2  \n",
       "34559  2021-03-31    11         2  \n",
       "34560  2021-03-31    11         2  \n",
       "\n",
       "[8269 rows x 5 columns]"
      ]
     },
     "execution_count": 22,
     "metadata": {},
     "output_type": "execute_result"
    }
   ],
   "source": [
    "df_occ"
   ]
  },
  {
   "cell_type": "code",
   "execution_count": 23,
   "metadata": {},
   "outputs": [
    {
     "data": {
      "text/plain": [
       "date\n",
       "2020-12-01    1.812111\n",
       "2020-12-02    2.847229\n",
       "2020-12-03    2.847633\n",
       "2020-12-04    2.434929\n",
       "2020-12-07    3.247620\n",
       "                ...   \n",
       "2021-03-25    1.608479\n",
       "2021-03-26    1.810432\n",
       "2021-03-29    1.213501\n",
       "2021-03-30    1.628166\n",
       "2021-03-31    1.025452\n",
       "Name: /FS4/NAE00806603BECA/3001087/NAE00806603BECA/Field Bus1.BrowerRadiant2East.ZN2-T, Length: 87, dtype: float64"
      ]
     },
     "execution_count": 23,
     "metadata": {},
     "output_type": "execute_result"
    }
   ],
   "source": [
    "df_range"
   ]
  },
  {
   "cell_type": "code",
   "execution_count": 25,
   "metadata": {},
   "outputs": [
    {
     "data": {
      "text/plain": [
       "2.8231246948242186"
      ]
     },
     "execution_count": 25,
     "metadata": {},
     "output_type": "execute_result"
    }
   ],
   "source": [
    "df_range.quantile(0.8)"
   ]
  },
  {
   "cell_type": "code",
   "execution_count": 27,
   "metadata": {},
   "outputs": [],
   "source": [
    "t = df_range.quantile(0.8)\n",
    "df_out = df_range[(df_range > t)]\n",
    "# Calculate the percentage of occupied time outside the threshold\n",
    "p = len(df_out) / len(df_max)"
   ]
  },
  {
   "cell_type": "code",
   "execution_count": 28,
   "metadata": {},
   "outputs": [
    {
     "data": {
      "text/plain": [
       "0.20689655172413793"
      ]
     },
     "execution_count": 28,
     "metadata": {},
     "output_type": "execute_result"
    }
   ],
   "source": [
    "p"
   ]
  },
  {
   "cell_type": "code",
   "execution_count": null,
   "metadata": {},
   "outputs": [],
   "source": []
  }
 ],
 "metadata": {
  "kernelspec": {
   "display_name": "Python 3",
   "language": "python",
   "name": "python3"
  },
  "language_info": {
   "codemirror_mode": {
    "name": "ipython",
    "version": 3
   },
   "file_extension": ".py",
   "mimetype": "text/x-python",
   "name": "python",
   "nbconvert_exporter": "python",
   "pygments_lexer": "ipython3",
   "version": "3.8.5"
  }
 },
 "nbformat": 4,
 "nbformat_minor": 4
}
